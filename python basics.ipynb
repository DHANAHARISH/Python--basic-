{
 "cells": [
  {
   "cell_type": "markdown",
   "id": "b1d03973-1d75-48ac-a7fd-e8697bd0ff07",
   "metadata": {},
   "source": [
    "# Data science Python from scratch "
   ]
  },
  {
   "cell_type": "markdown",
   "id": "46f1e563-8e2a-4a3d-a8ab-784af719e90a",
   "metadata": {},
   "source": [
    "# Python Major \n",
    "    1.Interpreted ,high-level programming language \n",
    "    2.Variable \n",
    "    3.Data type \n",
    "    4.Control flow statements\n",
    "    5.function \n",
    "    6.object-oriented programming -oops "
   ]
  },
  {
   "cell_type": "code",
   "execution_count": 263,
   "id": "7d438abc-a131-4763-ab69-3d8bb72f3b67",
   "metadata": {},
   "outputs": [],
   "source": [
    "# Define python programming language ?"
   ]
  },
  {
   "cell_type": "markdown",
   "id": "65e81c96-0165-4704-a64c-29280a438f3b",
   "metadata": {},
   "source": [
    "- Python is an interpreted, object-oriented, high-level programming language known for its simplicity and readability.\n",
    "- It is widely used for various applications, including web development, data analysis, artificial intelligence, scientific computing"
   ]
  },
  {
   "cell_type": "code",
   "execution_count": 264,
   "id": "8c0c53d4-df13-44bf-8cb9-66029e0bb044",
   "metadata": {},
   "outputs": [],
   "source": [
    "# What is interpreted language ?"
   ]
  },
  {
   "cell_type": "markdown",
   "id": "6a7a7a1d-3c11-4b84-9c31-6d9f4788aabd",
   "metadata": {},
   "source": [
    "- Python is an interpreted language, which means that you dont need to {COMPILE} your code before running it. \n",
    "- reads and executes your code line by line"
   ]
  },
  {
   "cell_type": "code",
   "execution_count": 265,
   "id": "1c05de09-9e69-4d11-9651-034686bc4f64",
   "metadata": {},
   "outputs": [
    {
     "name": "stdout",
     "output_type": "stream",
     "text": [
      "The sum of 1 and 2 is: 3\n"
     ]
    }
   ],
   "source": [
    "# for example\n",
    "a=1\n",
    "b=2\n",
    "result=a+b\n",
    "print(\"The sum of\", a, \"and\", b, \"is:\", result)"
   ]
  },
  {
   "cell_type": "code",
   "execution_count": 266,
   "id": "6c33772d-10d5-4954-8358-5bb0357a8c48",
   "metadata": {},
   "outputs": [],
   "source": [
    "# What is compile ?"
   ]
  },
  {
   "attachments": {},
   "cell_type": "markdown",
   "id": "c992e81e-48a8-42a0-95ff-7df4d4347032",
   "metadata": {},
   "source": [
    "- A compiler is a that takes the source \n",
    "  code as input and translates it into machine code or bytecode"
   ]
  },
  {
   "cell_type": "code",
   "execution_count": 267,
   "id": "c55b0ac0-32ce-42ca-b5a8-b3f39ce626f1",
   "metadata": {},
   "outputs": [],
   "source": [
    "# High-Level Language?"
   ]
  },
  {
   "cell_type": "markdown",
   "id": "4a48781c-f7d8-415e-be1e-550bbf42e5b7",
   "metadata": {},
   "source": [
    "- Python is considered a high-level programming language because it abstracts away the complexities of low-level \n",
    "- operations and provides a more user-friendly and readable syntax,Platform Independence,"
   ]
  },
  {
   "cell_type": "markdown",
   "id": "d1ebfe0f",
   "metadata": {},
   "source": [
    "# python basic \n"
   ]
  },
  {
   "cell_type": "markdown",
   "id": "27858b16",
   "metadata": {},
   "source": [
    "# veriable-variable are to store the data type\n",
    "# what is veriable \n",
    "- In layman’s terms, we can say that Variable in Python is containers that store values.\n",
    "- not start with num,symbol\n",
    "- no gap\n",
    "- should variable are in left side  it not placce  inright side\"=\"\n",
    "- cap variable are different \n",
    "- variable are updatable\n",
    "  "
   ]
  },
  {
   "cell_type": "code",
   "execution_count": 268,
   "id": "28158d46",
   "metadata": {},
   "outputs": [
    {
     "data": {
      "text/plain": [
       "2"
      ]
     },
     "execution_count": 268,
     "metadata": {},
     "output_type": "execute_result"
    }
   ],
   "source": [
    "#data\n",
    "1+1\n"
   ]
  },
  {
   "cell_type": "code",
   "execution_count": 269,
   "id": "49d9c532",
   "metadata": {},
   "outputs": [
    {
     "data": {
      "text/plain": [
       "2"
      ]
     },
     "execution_count": 269,
     "metadata": {},
     "output_type": "execute_result"
    }
   ],
   "source": [
    "#To store the value in variable\n",
    "a=1+1\n",
    "a"
   ]
  },
  {
   "cell_type": "code",
   "execution_count": 270,
   "id": "a33a15bb",
   "metadata": {},
   "outputs": [],
   "source": [
    "#To store sperate the value in variable \n",
    "a,b,c=1,2,3"
   ]
  },
  {
   "cell_type": "code",
   "execution_count": 271,
   "id": "0155a70f",
   "metadata": {},
   "outputs": [
    {
     "name": "stdout",
     "output_type": "stream",
     "text": [
      "1 2 3\n"
     ]
    }
   ],
   "source": [
    "print(a,b,c)"
   ]
  },
  {
   "cell_type": "markdown",
   "id": "12a9cb25",
   "metadata": {},
   "source": [
    "# Data types\n",
    "data type in python are \n",
    "- interger,float,complex_number\n",
    "- string\n",
    "- bool\n",
    "- list,tuple,dict,set\n",
    "     "
   ]
  },
  {
   "cell_type": "code",
   "execution_count": 272,
   "id": "dab874d6-22fe-46a6-ac99-a69efd9a3d0e",
   "metadata": {},
   "outputs": [],
   "source": [
    "# data type are should  be call as type()"
   ]
  },
  {
   "cell_type": "markdown",
   "id": "04e28de1",
   "metadata": {},
   "source": [
    "## number data type\n",
    "## int\n",
    "    .whole number\n",
    "     ex.2\n",
    "  "
   ]
  },
  {
   "cell_type": "code",
   "execution_count": 273,
   "id": "5e1c1e7f",
   "metadata": {},
   "outputs": [
    {
     "data": {
      "text/plain": [
       "int"
      ]
     },
     "execution_count": 273,
     "metadata": {},
     "output_type": "execute_result"
    }
   ],
   "source": [
    "a=1\n",
    "type(a)"
   ]
  },
  {
   "cell_type": "markdown",
   "id": "175fbb21",
   "metadata": {},
   "source": [
    "## float\n",
    "    -decimal value\n",
    "    -ex:2.3"
   ]
  },
  {
   "cell_type": "code",
   "execution_count": 274,
   "id": "88ae72d1",
   "metadata": {},
   "outputs": [
    {
     "data": {
      "text/plain": [
       "float"
      ]
     },
     "execution_count": 274,
     "metadata": {},
     "output_type": "execute_result"
    }
   ],
   "source": [
    "d=3.1\n",
    "type(d)"
   ]
  },
  {
   "cell_type": "markdown",
   "id": "fabf8900",
   "metadata": {},
   "source": [
    "## complex_numer \n",
    "     1 is real part \n",
    "     2j is imagenary part\n",
    " "
   ]
  },
  {
   "cell_type": "code",
   "execution_count": 275,
   "id": "935bd769",
   "metadata": {},
   "outputs": [
    {
     "data": {
      "text/plain": [
       "complex"
      ]
     },
     "execution_count": 275,
     "metadata": {},
     "output_type": "execute_result"
    }
   ],
   "source": [
    "type(1+2j)"
   ]
  },
  {
   "cell_type": "markdown",
   "id": "f358186e",
   "metadata": {},
   "source": [
    "## text data type \n",
    "## string(str) \n",
    "     . string is sequence characters and can contain letters , num, symmbol, and even space. "
   ]
  },
  {
   "cell_type": "code",
   "execution_count": 276,
   "id": "9a18a5f8",
   "metadata": {},
   "outputs": [
    {
     "data": {
      "text/plain": [
       "str"
      ]
     },
     "execution_count": 276,
     "metadata": {},
     "output_type": "execute_result"
    }
   ],
   "source": [
    "f= 'i am dhanapal'\n",
    "type(f)"
   ]
  },
  {
   "cell_type": "markdown",
   "id": "887f263d",
   "metadata": {},
   "source": [
    "# use different coat"
   ]
  },
  {
   "cell_type": "code",
   "execution_count": 277,
   "id": "6ad859fd",
   "metadata": {},
   "outputs": [
    {
     "data": {
      "text/plain": [
       "str"
      ]
     },
     "execution_count": 277,
     "metadata": {},
     "output_type": "execute_result"
    }
   ],
   "source": [
    "g=\"dad's money\"\n",
    "type(g)"
   ]
  },
  {
   "cell_type": "markdown",
   "id": "55f26cf9",
   "metadata": {},
   "source": [
    "# string slicing \n",
    "    String slicing is a technique in Python that allows you to extract \n",
    "    a portion of a string (a substring) by specifying a range of indices"
   ]
  },
  {
   "cell_type": "code",
   "execution_count": 278,
   "id": "6a4fb217",
   "metadata": {},
   "outputs": [
    {
     "data": {
      "text/plain": [
       "'dhanapal'"
      ]
     },
     "execution_count": 278,
     "metadata": {},
     "output_type": "execute_result"
    }
   ],
   "source": [
    "f='i am dhanapal'\n",
    "f[5:13]"
   ]
  },
  {
   "cell_type": "markdown",
   "id": "697fb6e0",
   "metadata": {},
   "source": [
    "## STRING CONCATINATION\n",
    "   . It is nothing but to add the string \n",
    "  "
   ]
  },
  {
   "cell_type": "code",
   "execution_count": 279,
   "id": "0fc8a258",
   "metadata": {},
   "outputs": [],
   "source": [
    "j='hari'\n",
    "k='dhana'"
   ]
  },
  {
   "cell_type": "code",
   "execution_count": 280,
   "id": "6a0fd53e",
   "metadata": {},
   "outputs": [],
   "source": [
    "s=j+k"
   ]
  },
  {
   "cell_type": "code",
   "execution_count": 281,
   "id": "3c1a1196",
   "metadata": {},
   "outputs": [
    {
     "data": {
      "text/plain": [
       "'haridhana'"
      ]
     },
     "execution_count": 281,
     "metadata": {},
     "output_type": "execute_result"
    }
   ],
   "source": [
    "s"
   ]
  },
  {
   "cell_type": "code",
   "execution_count": 282,
   "id": "c3425a97",
   "metadata": {},
   "outputs": [
    {
     "data": {
      "text/plain": [
       "True"
      ]
     },
     "execution_count": 282,
     "metadata": {},
     "output_type": "execute_result"
    }
   ],
   "source": [
    "s.isalpha()"
   ]
  },
  {
   "cell_type": "code",
   "execution_count": 283,
   "id": "bbab98a2",
   "metadata": {},
   "outputs": [
    {
     "data": {
      "text/plain": [
       "'haridhana'"
      ]
     },
     "execution_count": 283,
     "metadata": {},
     "output_type": "execute_result"
    }
   ],
   "source": [
    "s.casefold()"
   ]
  },
  {
   "cell_type": "code",
   "execution_count": 284,
   "id": "9127a072-07b7-4e6e-9dce-97919cda03c0",
   "metadata": {},
   "outputs": [
    {
     "name": "stdin",
     "output_type": "stream",
     "text": [
      " dhana\n"
     ]
    },
    {
     "name": "stdout",
     "output_type": "stream",
     "text": [
      "i amdhana\n"
     ]
    }
   ],
   "source": [
    "f=input()\n",
    "r= 'i am'+f\n",
    "print(r)"
   ]
  },
  {
   "cell_type": "markdown",
   "id": "151a23b6-9299-4208-a622-eedd12cc70e3",
   "metadata": {},
   "source": [
    "# STRING FORMAT "
   ]
  },
  {
   "cell_type": "code",
   "execution_count": 326,
   "id": "e6eae08f",
   "metadata": {},
   "outputs": [
    {
     "name": "stdout",
     "output_type": "stream",
     "text": [
      "player name is dhoni bating at 100\n"
     ]
    }
   ],
   "source": [
    "\n",
    "a='dhoni'\n",
    "b='100'\n",
    "print('player name is {} bating at {}'.format(a,b))"
   ]
  },
  {
   "cell_type": "code",
   "execution_count": 327,
   "id": "afc80a79",
   "metadata": {},
   "outputs": [
    {
     "name": "stdout",
     "output_type": "stream",
     "text": [
      "player name is dhoni bating at 100\n"
     ]
    }
   ],
   "source": [
    "a='dhoni'\n",
    "b='100'\n",
    "print(f'player name is {a} bating at {b}')\n"
   ]
  },
  {
   "cell_type": "code",
   "execution_count": 328,
   "id": "249d0128",
   "metadata": {},
   "outputs": [],
   "source": [
    "k='dhana'"
   ]
  },
  {
   "cell_type": "code",
   "execution_count": 329,
   "id": "3920bf39",
   "metadata": {},
   "outputs": [
    {
     "data": {
      "text/plain": [
       "'kdhana'"
      ]
     },
     "execution_count": 329,
     "metadata": {},
     "output_type": "execute_result"
    }
   ],
   "source": [
    "k.replace('d','kd')"
   ]
  },
  {
   "cell_type": "code",
   "execution_count": 330,
   "id": "cbfd795c",
   "metadata": {},
   "outputs": [
    {
     "name": "stdout",
     "output_type": "stream",
     "text": [
      "i am \n",
      " good\n"
     ]
    }
   ],
   "source": [
    "print('i am \\n good')"
   ]
  },
  {
   "cell_type": "code",
   "execution_count": 331,
   "id": "c726d894",
   "metadata": {},
   "outputs": [
    {
     "name": "stdout",
     "output_type": "stream",
     "text": [
      "i am \t good\n"
     ]
    }
   ],
   "source": [
    "print('i am \\t good')"
   ]
  },
  {
   "cell_type": "code",
   "execution_count": 332,
   "id": "07f8cdb5",
   "metadata": {},
   "outputs": [
    {
     "name": "stdout",
     "output_type": "stream",
     "text": [
      "i am good\n"
     ]
    }
   ],
   "source": [
    "print('i am \\b good')"
   ]
  },
  {
   "cell_type": "code",
   "execution_count": 333,
   "id": "959cca95",
   "metadata": {},
   "outputs": [],
   "source": [
    "k='dhana'"
   ]
  },
  {
   "cell_type": "code",
   "execution_count": 334,
   "id": "ce29ac89",
   "metadata": {},
   "outputs": [
    {
     "data": {
      "text/plain": [
       "'DHANA'"
      ]
     },
     "execution_count": 334,
     "metadata": {},
     "output_type": "execute_result"
    }
   ],
   "source": [
    "k.upper()"
   ]
  },
  {
   "cell_type": "code",
   "execution_count": 335,
   "id": "f0a1e51e",
   "metadata": {},
   "outputs": [
    {
     "name": "stdout",
     "output_type": "stream",
     "text": [
      "i am ' good\n"
     ]
    }
   ],
   "source": [
    "print('i am \\' good')\n"
   ]
  },
  {
   "cell_type": "markdown",
   "id": "1801bdb4",
   "metadata": {},
   "source": [
    "## intex\n",
    "- start with 0\n",
    "- use[]\n",
    "- inculde white space while indexing\n",
    "- Lists and tuples are ordered collections of elements, and you can access individual elements by specifying their index.\n",
    "    \n",
    "- In Python, indexing is zero-based, meaning the first element has an index of 0, \n",
    "the second element has an index of 1, and so on.\n",
    "      \n",
    "- You can also use negative indexing to access elements from the end of the sequence, \n",
    "- where -1 represents the last element, -2 represents the second-to-last element, and so forth."
   ]
  },
  {
   "cell_type": "code",
   "execution_count": 336,
   "id": "6cc19f06-1545-47ee-b514-b55d212434ff",
   "metadata": {},
   "outputs": [],
   "source": [
    "# what are the types of indexing "
   ]
  },
  {
   "cell_type": "markdown",
   "id": "e88f313f-0db8-487d-9dd0-91f597b4c561",
   "metadata": {},
   "source": [
    "Zero-Based Indexing  \n",
    "Negative Indexing"
   ]
  },
  {
   "cell_type": "code",
   "execution_count": 337,
   "id": "35c2bbb5-0a71-4c25-a8f4-f63072774ba4",
   "metadata": {},
   "outputs": [
    {
     "data": {
      "text/plain": [
       "'i'"
      ]
     },
     "execution_count": 337,
     "metadata": {},
     "output_type": "execute_result"
    }
   ],
   "source": [
    "# Zero-Based Indexing\n",
    "f= 'i am dhanapal'\n",
    "f[0]"
   ]
  },
  {
   "cell_type": "code",
   "execution_count": 338,
   "id": "ab1b9896-8760-41a9-a8a9-6d683f3d5405",
   "metadata": {},
   "outputs": [
    {
     "data": {
      "text/plain": [
       "'l'"
      ]
     },
     "execution_count": 338,
     "metadata": {},
     "output_type": "execute_result"
    }
   ],
   "source": [
    "# Negative Indexing\n",
    "f[-1]"
   ]
  },
  {
   "cell_type": "markdown",
   "id": "b399062c",
   "metadata": {},
   "source": [
    "## Type casting /Type of conversion\n",
    "Python defines type conversion functions to directly convert one data type to another data type\n",
    "There are two types of Type Conversion in Python:\r",
    "- Implicit Type Conversion\n",
    "- Explicit Type Consrseinonrsion"
   ]
  },
  {
   "cell_type": "markdown",
   "id": "86ad1183-aba1-47a3-8dec-6d3dae2a62c1",
   "metadata": {},
   "source": [
    "# Implicit Type Conversion\n",
    "- implicit type casting occurs automatically when an operation involves operands of different data types"
   ]
  },
  {
   "cell_type": "code",
   "execution_count": 339,
   "id": "151ee3c5-6564-4d9b-b276-d35bd88021a2",
   "metadata": {},
   "outputs": [
    {
     "name": "stdout",
     "output_type": "stream",
     "text": [
      "Implicit type conversion x is cast to a float, result is: 15.5\n"
     ]
    }
   ],
   "source": [
    "x = 10      # Integer\n",
    "y = 5.5     # Floating-point number\n",
    "z= x + y  \n",
    "print('Implicit type conversion x is cast to a float, result is:' , z)"
   ]
  },
  {
   "cell_type": "markdown",
   "id": "a56af2a4-650d-49c6-8fce-09966bd6b915",
   "metadata": {},
   "source": [
    "# Explicit Type Conversion\n",
    "- Explicit type casting is when you manually convert a value from one data type to another data type "
   ]
  },
  {
   "cell_type": "code",
   "execution_count": 340,
   "id": "b6dc3465",
   "metadata": {},
   "outputs": [
    {
     "data": {
      "text/plain": [
       "float"
      ]
     },
     "execution_count": 340,
     "metadata": {},
     "output_type": "execute_result"
    }
   ],
   "source": [
    "t=30.1\n",
    "type(t)"
   ]
  },
  {
   "cell_type": "code",
   "execution_count": 341,
   "id": "ec6df70b",
   "metadata": {},
   "outputs": [
    {
     "data": {
      "text/plain": [
       "30"
      ]
     },
     "execution_count": 341,
     "metadata": {},
     "output_type": "execute_result"
    }
   ],
   "source": [
    "t=int(30.1)#interger cannot the round the valu \n",
    "t\n"
   ]
  },
  {
   "cell_type": "code",
   "execution_count": 342,
   "id": "ec016712-2e7f-4728-b169-5afc174e01c2",
   "metadata": {},
   "outputs": [
    {
     "data": {
      "text/plain": [
       "int"
      ]
     },
     "execution_count": 342,
     "metadata": {},
     "output_type": "execute_result"
    }
   ],
   "source": [
    "type(t)"
   ]
  },
  {
   "cell_type": "code",
   "execution_count": 343,
   "id": "4cc30c7c",
   "metadata": {},
   "outputs": [
    {
     "data": {
      "text/plain": [
       "30.0"
      ]
     },
     "execution_count": 343,
     "metadata": {},
     "output_type": "execute_result"
    }
   ],
   "source": [
    "t=float(30)\n",
    "t"
   ]
  },
  {
   "cell_type": "code",
   "execution_count": 344,
   "id": "4fd26cc2-faf3-42e1-b79b-7bf7d0f394fa",
   "metadata": {},
   "outputs": [
    {
     "data": {
      "text/plain": [
       "float"
      ]
     },
     "execution_count": 344,
     "metadata": {},
     "output_type": "execute_result"
    }
   ],
   "source": [
    "type(t)"
   ]
  },
  {
   "cell_type": "code",
   "execution_count": 345,
   "id": "cd624333",
   "metadata": {},
   "outputs": [
    {
     "data": {
      "text/plain": [
       "'30'"
      ]
     },
     "execution_count": 345,
     "metadata": {},
     "output_type": "execute_result"
    }
   ],
   "source": [
    "t=str(30)\n",
    "t"
   ]
  },
  {
   "cell_type": "code",
   "execution_count": 346,
   "id": "ce48aba2-ced0-43e4-8fd3-609381e2ad60",
   "metadata": {},
   "outputs": [
    {
     "data": {
      "text/plain": [
       "str"
      ]
     },
     "execution_count": 346,
     "metadata": {},
     "output_type": "execute_result"
    }
   ],
   "source": [
    "type(t)"
   ]
  },
  {
   "cell_type": "markdown",
   "id": "e1ab9adc",
   "metadata": {},
   "source": [
    "# Boolean type\n",
    "-  if the condition is true its true \n",
    "- ''''''''          is false its false \n",
    "# types\n",
    "There are three primary types of Boolean values in Python:\n",
    "- True\n",
    "- False\n",
    "- Boolen expressions\n",
    "  - like AND,OR,NOT "
   ]
  },
  {
   "cell_type": "code",
   "execution_count": 347,
   "id": "a4ef65c5",
   "metadata": {},
   "outputs": [
    {
     "data": {
      "text/plain": [
       "True"
      ]
     },
     "execution_count": 347,
     "metadata": {},
     "output_type": "execute_result"
    }
   ],
   "source": [
    "1==1"
   ]
  },
  {
   "cell_type": "markdown",
   "id": "306823fb-123d-45c2-a5f4-77f9d74a108a",
   "metadata": {},
   "source": [
    "# list[],Tuple(),set{},dict {} "
   ]
  },
  {
   "cell_type": "markdown",
   "id": "5201e2a8-94cc-41c1-b5ff-05294c409b10",
   "metadata": {},
   "source": [
    "There are four collection data types in the Python programming language:\n",
    "# list[]\n",
    "- List is a collection which is ordered and changeable. Allows duplicate members.\n",
    "# Tuple()\n",
    "- Tuple is a collection which is ordered and unchangeable. Allows duplicate members.\n",
    "# set{}\n",
    "- Set is a collection which is unordered, unchangeable*, and unindexed. No duplicate members.\n",
    "# dict {} \n",
    "- Dictionary is a collection which is ordered** and changeable. No duplicate members."
   ]
  },
  {
   "cell_type": "markdown",
   "id": "97dce0e9-2da9-4e67-a80c-bedf75a075b2",
   "metadata": {},
   "source": [
    "## LIST[] examples "
   ]
  },
  {
   "cell_type": "code",
   "execution_count": 348,
   "id": "ce34e32f",
   "metadata": {},
   "outputs": [],
   "source": [
    "l=[1,2,3,4,5,]"
   ]
  },
  {
   "cell_type": "code",
   "execution_count": 349,
   "id": "ea8f9243",
   "metadata": {},
   "outputs": [
    {
     "data": {
      "text/plain": [
       "[1, 2, 3, 4, 5]"
      ]
     },
     "execution_count": 349,
     "metadata": {},
     "output_type": "execute_result"
    }
   ],
   "source": [
    "l"
   ]
  },
  {
   "cell_type": "code",
   "execution_count": 350,
   "id": "d267fe94",
   "metadata": {},
   "outputs": [
    {
     "data": {
      "text/plain": [
       "list"
      ]
     },
     "execution_count": 350,
     "metadata": {},
     "output_type": "execute_result"
    }
   ],
   "source": [
    "type(l)"
   ]
  },
  {
   "cell_type": "code",
   "execution_count": 351,
   "id": "719c4adb",
   "metadata": {},
   "outputs": [
    {
     "data": {
      "text/plain": [
       "1"
      ]
     },
     "execution_count": 351,
     "metadata": {},
     "output_type": "execute_result"
    }
   ],
   "source": [
    "# list are appilicable for indexing and sling \n",
    "l[0]"
   ]
  },
  {
   "cell_type": "code",
   "execution_count": 352,
   "id": "68b87405",
   "metadata": {},
   "outputs": [
    {
     "data": {
      "text/plain": [
       "[2, 3, 4]"
      ]
     },
     "execution_count": 352,
     "metadata": {},
     "output_type": "execute_result"
    }
   ],
   "source": [
    "l[1:4]"
   ]
  },
  {
   "cell_type": "code",
   "execution_count": 353,
   "id": "87d6f4e8",
   "metadata": {},
   "outputs": [
    {
     "data": {
      "text/plain": [
       "[1, 2, 3, 4, 5]"
      ]
     },
     "execution_count": 353,
     "metadata": {},
     "output_type": "execute_result"
    }
   ],
   "source": [
    "# list are mutalble\n",
    "l"
   ]
  },
  {
   "cell_type": "code",
   "execution_count": 354,
   "id": "33a4b116",
   "metadata": {},
   "outputs": [],
   "source": [
    "l[2]='dhana'"
   ]
  },
  {
   "cell_type": "code",
   "execution_count": 355,
   "id": "b81ed114",
   "metadata": {},
   "outputs": [
    {
     "data": {
      "text/plain": [
       "[1, 2, 'dhana', 4, 5]"
      ]
     },
     "execution_count": 355,
     "metadata": {},
     "output_type": "execute_result"
    }
   ],
   "source": [
    "l"
   ]
  },
  {
   "cell_type": "code",
   "execution_count": 356,
   "id": "4f3d6be4",
   "metadata": {},
   "outputs": [],
   "source": [
    "l.append(0) #Append object to the end of the list"
   ]
  },
  {
   "cell_type": "code",
   "execution_count": 357,
   "id": "56306ae2",
   "metadata": {},
   "outputs": [
    {
     "data": {
      "text/plain": [
       "[1, 2, 'dhana', 4, 5, 0]"
      ]
     },
     "execution_count": 357,
     "metadata": {},
     "output_type": "execute_result"
    }
   ],
   "source": [
    "l"
   ]
  },
  {
   "cell_type": "code",
   "execution_count": 358,
   "id": "8a1e94cd",
   "metadata": {},
   "outputs": [
    {
     "data": {
      "text/plain": [
       "[1, 'dhana', 4, 5, 0]"
      ]
     },
     "execution_count": 358,
     "metadata": {},
     "output_type": "execute_result"
    }
   ],
   "source": [
    "l.pop(1) #Remove and return item at index (default last).\n",
    "\n",
    "l"
   ]
  },
  {
   "cell_type": "markdown",
   "id": "7ffd24f2",
   "metadata": {},
   "source": [
    "## important topic \n",
    "  . copy function \n",
    "    "
   ]
  },
  {
   "cell_type": "code",
   "execution_count": 359,
   "id": "d87bba83",
   "metadata": {},
   "outputs": [],
   "source": [
    "a=[12,3,4,5,]\n"
   ]
  },
  {
   "cell_type": "code",
   "execution_count": 360,
   "id": "ebb6d80b",
   "metadata": {},
   "outputs": [],
   "source": [
    "b=a.copy()"
   ]
  },
  {
   "cell_type": "code",
   "execution_count": 361,
   "id": "b3f20b5f",
   "metadata": {},
   "outputs": [
    {
     "data": {
      "text/plain": [
       "[12, 3, 4, 5]"
      ]
     },
     "execution_count": 361,
     "metadata": {},
     "output_type": "execute_result"
    }
   ],
   "source": [
    "b"
   ]
  },
  {
   "cell_type": "code",
   "execution_count": 362,
   "id": "2ebae96b",
   "metadata": {},
   "outputs": [
    {
     "data": {
      "text/plain": [
       "[12, 'dhana', 4, 5]"
      ]
     },
     "execution_count": 362,
     "metadata": {},
     "output_type": "execute_result"
    }
   ],
   "source": [
    "b[1]='dhana'\n",
    "b"
   ]
  },
  {
   "cell_type": "code",
   "execution_count": 363,
   "id": "20cb5bca",
   "metadata": {},
   "outputs": [
    {
     "data": {
      "text/plain": [
       "[12, 3, 4, 5]"
      ]
     },
     "execution_count": 363,
     "metadata": {},
     "output_type": "execute_result"
    }
   ],
   "source": [
    "a"
   ]
  },
  {
   "cell_type": "markdown",
   "id": "2a6ea311",
   "metadata": {},
   "source": [
    "# Tuple()"
   ]
  },
  {
   "cell_type": "code",
   "execution_count": 364,
   "id": "d20c9e56",
   "metadata": {},
   "outputs": [],
   "source": [
    "a=(1,2,3,6,6.0,)"
   ]
  },
  {
   "cell_type": "code",
   "execution_count": 365,
   "id": "87d77372",
   "metadata": {},
   "outputs": [
    {
     "data": {
      "text/plain": [
       "(1, 2, 3, 6, 6.0)"
      ]
     },
     "execution_count": 365,
     "metadata": {},
     "output_type": "execute_result"
    }
   ],
   "source": [
    "a"
   ]
  },
  {
   "cell_type": "code",
   "execution_count": 366,
   "id": "6a225b7b-c5ac-4905-a10c-9f35441e5819",
   "metadata": {},
   "outputs": [
    {
     "ename": "TypeError",
     "evalue": "'tuple' object does not support item assignment",
     "output_type": "error",
     "traceback": [
      "\u001b[1;31m---------------------------------------------------------------------------\u001b[0m",
      "\u001b[1;31mTypeError\u001b[0m                                 Traceback (most recent call last)",
      "Cell \u001b[1;32mIn[366], line 1\u001b[0m\n\u001b[1;32m----> 1\u001b[0m \u001b[43ma\u001b[49m\u001b[43m[\u001b[49m\u001b[38;5;241;43m1\u001b[39;49m\u001b[43m]\u001b[49m\u001b[38;5;241m=\u001b[39m\u001b[38;5;241m3\u001b[39m\n",
      "\u001b[1;31mTypeError\u001b[0m: 'tuple' object does not support item assignment"
     ]
    }
   ],
   "source": [
    "a[1]=3"
   ]
  },
  {
   "cell_type": "code",
   "execution_count": 367,
   "id": "3edbfd58",
   "metadata": {},
   "outputs": [
    {
     "data": {
      "text/plain": [
       "tuple"
      ]
     },
     "execution_count": 367,
     "metadata": {},
     "output_type": "execute_result"
    }
   ],
   "source": [
    "type(a)"
   ]
  },
  {
   "cell_type": "code",
   "execution_count": 368,
   "id": "e18427ba",
   "metadata": {},
   "outputs": [
    {
     "data": {
      "text/plain": [
       "2"
      ]
     },
     "execution_count": 368,
     "metadata": {},
     "output_type": "execute_result"
    }
   ],
   "source": [
    "a.count(6)"
   ]
  },
  {
   "cell_type": "code",
   "execution_count": 369,
   "id": "d82f4b70",
   "metadata": {},
   "outputs": [
    {
     "data": {
      "text/plain": [
       "2"
      ]
     },
     "execution_count": 369,
     "metadata": {},
     "output_type": "execute_result"
    }
   ],
   "source": [
    "a.index(3)"
   ]
  },
  {
   "cell_type": "markdown",
   "id": "075f1db6",
   "metadata": {},
   "source": [
    "# set {}\n"
   ]
  },
  {
   "cell_type": "code",
   "execution_count": 370,
   "id": "17c95d3f",
   "metadata": {},
   "outputs": [],
   "source": [
    "d={'dhana','gayu','hari','kundachi'}"
   ]
  },
  {
   "cell_type": "code",
   "execution_count": 371,
   "id": "5084cf05",
   "metadata": {},
   "outputs": [
    {
     "data": {
      "text/plain": [
       "set"
      ]
     },
     "execution_count": 371,
     "metadata": {},
     "output_type": "execute_result"
    }
   ],
   "source": [
    "type(d)"
   ]
  },
  {
   "cell_type": "code",
   "execution_count": 372,
   "id": "1f2621ed",
   "metadata": {},
   "outputs": [
    {
     "name": "stdout",
     "output_type": "stream",
     "text": [
      "{'hari', 'dhana', 'kundachi', 'gayu'}\n"
     ]
    }
   ],
   "source": [
    "print(d)"
   ]
  },
  {
   "cell_type": "code",
   "execution_count": 373,
   "id": "a6386fa8",
   "metadata": {},
   "outputs": [
    {
     "data": {
      "text/plain": [
       "'hari'"
      ]
     },
     "execution_count": 373,
     "metadata": {},
     "output_type": "execute_result"
    }
   ],
   "source": [
    "d.pop()"
   ]
  },
  {
   "cell_type": "markdown",
   "id": "6fe9781d",
   "metadata": {},
   "source": [
    "## Dict {} "
   ]
  },
  {
   "cell_type": "code",
   "execution_count": 374,
   "id": "7d7350e9",
   "metadata": {},
   "outputs": [],
   "source": [
    "g={'raju': 1234,'jack':3111 }"
   ]
  },
  {
   "cell_type": "code",
   "execution_count": 375,
   "id": "ae410cf2",
   "metadata": {},
   "outputs": [
    {
     "data": {
      "text/plain": [
       "dict"
      ]
     },
     "execution_count": 375,
     "metadata": {},
     "output_type": "execute_result"
    }
   ],
   "source": [
    "type(g)"
   ]
  },
  {
   "cell_type": "code",
   "execution_count": 376,
   "id": "e165231e",
   "metadata": {},
   "outputs": [
    {
     "data": {
      "text/plain": [
       "dict_keys(['raju', 'jack'])"
      ]
     },
     "execution_count": 376,
     "metadata": {},
     "output_type": "execute_result"
    }
   ],
   "source": [
    "g.keys()"
   ]
  },
  {
   "cell_type": "code",
   "execution_count": 377,
   "id": "4076a8ef",
   "metadata": {},
   "outputs": [
    {
     "data": {
      "text/plain": [
       "dict_values([1234, 3111])"
      ]
     },
     "execution_count": 377,
     "metadata": {},
     "output_type": "execute_result"
    }
   ],
   "source": [
    "g.values()"
   ]
  },
  {
   "cell_type": "code",
   "execution_count": 378,
   "id": "89ea966d",
   "metadata": {},
   "outputs": [
    {
     "data": {
      "text/plain": [
       "1234"
      ]
     },
     "execution_count": 378,
     "metadata": {},
     "output_type": "execute_result"
    }
   ],
   "source": [
    "g.get('raju')"
   ]
  },
  {
   "cell_type": "markdown",
   "id": "7c18317e-d687-4665-b2a0-82aca6bde612",
   "metadata": {},
   "source": [
    "# nesteded dict\n",
    "- A nested dictionary in Python is a dictionary that contains another dictionary (or dictionaries) as its values\n",
    "- nesteded dict where you can access values using multiple keys, creating a sort of tree-like structure."
   ]
  },
  {
   "cell_type": "markdown",
   "id": "738dc11a-8009-440d-b904-e6cfd6d11dc5",
   "metadata": {},
   "source": [
    "# types\n"
   ]
  },
  {
   "cell_type": "markdown",
   "id": "471f1169-9902-4c1b-82a4-20fe1aa6de3b",
   "metadata": {},
   "source": [
    "# Simple Nested Dictionary:"
   ]
  },
  {
   "cell_type": "markdown",
   "id": "b2c208d8-0022-4e6f-a676-ad9be3db17a4",
   "metadata": {},
   "source": [
    "- In a simple nested dictionary, values are dictionaries themselves.\n",
    "Each key in the outer dictionary corresponds to a sub-dictionary. \n"
   ]
  },
  {
   "cell_type": "code",
   "execution_count": 379,
   "id": "8f6ec10f-cd11-450b-9483-d69ad1a672d7",
   "metadata": {},
   "outputs": [],
   "source": [
    "S_nested_dict = {\n",
    "    \"person1\": {\"name\": \"Alice\", \"age\": 30},\n",
    "    \"person2\": {\"name\": \"Bob\", \"age\": 25}\n",
    "}"
   ]
  },
  {
   "cell_type": "code",
   "execution_count": 380,
   "id": "9c159c5e-6f4c-4bc5-a4d1-369f3794198f",
   "metadata": {},
   "outputs": [
    {
     "data": {
      "text/plain": [
       "{'person1': {'name': 'Alice', 'age': 30},\n",
       " 'person2': {'name': 'Bob', 'age': 25}}"
      ]
     },
     "execution_count": 380,
     "metadata": {},
     "output_type": "execute_result"
    }
   ],
   "source": [
    "S_nested_dict"
   ]
  },
  {
   "cell_type": "code",
   "execution_count": 381,
   "id": "be8bef2b-3968-4d7a-aba4-f847629d7a7b",
   "metadata": {},
   "outputs": [
    {
     "data": {
      "text/plain": [
       "'Alice'"
      ]
     },
     "execution_count": 381,
     "metadata": {},
     "output_type": "execute_result"
    }
   ],
   "source": [
    "S_nested_dict[\"person1\"][\"name\"] # you can access values using multiple keys"
   ]
  },
  {
   "cell_type": "markdown",
   "id": "bc5d7ce9-9e49-4044-b2c4-a433889e3dea",
   "metadata": {},
   "source": [
    "# Hierarchical Nested Dictionary: "
   ]
  },
  {
   "cell_type": "markdown",
   "id": "9074c6d7-0f7e-4545-9e42-7851bcb17155",
   "metadata": {},
   "source": [
    "- In a hierarchical nested dictionary, sub-dictionaries can themselves contain further nested dictionaries.\n",
    "- This structure can represent complex data relationships"
   ]
  },
  {
   "cell_type": "code",
   "execution_count": 382,
   "id": "a2581a90",
   "metadata": {},
   "outputs": [],
   "source": [
    "data={\n",
    "    \"file_1\":{\n",
    "    \"student_1\":{'name':'dhana',\"mark\":95}\n",
    "    },\n",
    "      \"file_2\":{\n",
    "      \"student_2\":{'name':'dhana', \"mark\":95}\n",
    "      }\n",
    "    \n",
    "    }"
   ]
  },
  {
   "cell_type": "code",
   "execution_count": 383,
   "id": "c4f2cc25",
   "metadata": {},
   "outputs": [
    {
     "data": {
      "text/plain": [
       "{'file_1': {'student_1': {'name': 'dhana', 'mark': 95}},\n",
       " 'file_2': {'student_2': {'name': 'dhana', 'mark': 95}}}"
      ]
     },
     "execution_count": 383,
     "metadata": {},
     "output_type": "execute_result"
    }
   ],
   "source": [
    "data"
   ]
  },
  {
   "cell_type": "code",
   "execution_count": 384,
   "id": "e2a3faa1",
   "metadata": {},
   "outputs": [
    {
     "data": {
      "text/plain": [
       "{'name': 'dhana', 'mark': 95}"
      ]
     },
     "execution_count": 384,
     "metadata": {},
     "output_type": "execute_result"
    }
   ],
   "source": [
    "data[\"file_1\"][\"student_1\"]"
   ]
  },
  {
   "cell_type": "markdown",
   "id": "bda6f501-2264-42f6-af4c-a0636198bb0a",
   "metadata": {},
   "source": [
    "# Mixed Data Types:"
   ]
  },
  {
   "cell_type": "markdown",
   "id": "6c51b653-0869-4d4b-9a3d-5c4a817c40aa",
   "metadata": {},
   "source": [
    "- Nested dictionaries can contain values of different data types, including lists, tuples, or even other nested dictionaries. \n",
    "- This versatility allows you to represent diverse data structures."
   ]
  },
  {
   "cell_type": "code",
   "execution_count": 385,
   "id": "0a2a0a99-3286-4ac0-bcdc-b4a51f43cd27",
   "metadata": {},
   "outputs": [],
   "source": [
    "mixed_dict = {\n",
    "    \"person1\": {\"name\": \"Alice\", \"scores\": [95, 87, 91]},\n",
    "    \"person2\": {\"name\": \"Bob\", \"contact\": {\"email\": \"bob@example.com\", \"phone\": \"555-123-4567\"}}\n",
    "}\n"
   ]
  },
  {
   "cell_type": "code",
   "execution_count": 386,
   "id": "cc210180-20c4-4e1b-8cf4-7b0d37dfe5db",
   "metadata": {},
   "outputs": [
    {
     "data": {
      "text/plain": [
       "{'person1': {'name': 'Alice', 'scores': [95, 87, 91]},\n",
       " 'person2': {'name': 'Bob',\n",
       "  'contact': {'email': 'bob@example.com', 'phone': '555-123-4567'}}}"
      ]
     },
     "execution_count": 386,
     "metadata": {},
     "output_type": "execute_result"
    }
   ],
   "source": [
    "mixed_dict"
   ]
  },
  {
   "cell_type": "markdown",
   "id": "c2ba6ff1-f584-44e1-8bff-d4903b8eb3fc",
   "metadata": {},
   "source": [
    "# Configurations and Settings"
   ]
  },
  {
   "cell_type": "markdown",
   "id": "ae5e456c-aaa6-4ab6-9dc5-10ea45dc8397",
   "metadata": {},
   "source": [
    "- Nested dictionaries are often used to represent configuration settings, \n",
    "- where each key-value pair corresponds to a setting and its value.\n",
    "- Sub-dictionaries can group related settings."
   ]
  },
  {
   "cell_type": "code",
   "execution_count": 387,
   "id": "b0c4dc2f-7101-4767-9fc5-5ca0c3a39bfa",
   "metadata": {},
   "outputs": [
    {
     "data": {
      "text/plain": [
       "{'general': {'language': 'English', 'theme': 'Dark'},\n",
       " 'database': {'host': 'localhost', 'port': 5432},\n",
       " 'logging': {'level': 'DEBUG', 'file': 'app.log'}}"
      ]
     },
     "execution_count": 387,
     "metadata": {},
     "output_type": "execute_result"
    }
   ],
   "source": [
    "config_settings = {\n",
    "    \"general\": {\"language\": \"English\", \"theme\": \"Dark\"},\n",
    "    \"database\": {\"host\": \"localhost\", \"port\": 5432},\n",
    "    \"logging\": {\"level\": \"DEBUG\", \"file\": \"app.log\"}\n",
    "}\n",
    "config_settings"
   ]
  },
  {
   "cell_type": "markdown",
   "id": "f80742c3-f539-4882-9be8-b9f658b0a32a",
   "metadata": {},
   "source": [
    "# JSON-Like Data:"
   ]
  },
  {
   "cell_type": "markdown",
   "id": "e3ffa6fa-f04a-4faa-9db7-a04e61997541",
   "metadata": {},
   "source": [
    "- Nested dictionaries can mimic the structure of JSON data, making it easy to work with JSON data in Python."
   ]
  },
  {
   "cell_type": "code",
   "execution_count": 388,
   "id": "ddd3031a-644e-4ca7-89ae-c5c81883c14a",
   "metadata": {},
   "outputs": [
    {
     "data": {
      "text/plain": [
       "{'name': 'John',\n",
       " 'age': 35,\n",
       " 'address': {'street': '123 Main St', 'city': 'Cityville', 'zipcode': '12345'},\n",
       " 'tags': ['Python', 'Programming', 'Data Science']}"
      ]
     },
     "execution_count": 388,
     "metadata": {},
     "output_type": "execute_result"
    }
   ],
   "source": [
    "json_data = {\n",
    "    \"name\": \"John\",\n",
    "    \"age\": 35,\n",
    "    \"address\": {\n",
    "        \"street\": \"123 Main St\",\n",
    "        \"city\": \"Cityville\",\n",
    "        \"zipcode\": \"12345\"\n",
    "    },\n",
    "    \"tags\": [\"Python\", \"Programming\", \"Data Science\"]\n",
    "}\n",
    "json_data"
   ]
  },
  {
   "cell_type": "markdown",
   "id": "5361bed6-4880-4bb1-8621-323b7c7d074d",
   "metadata": {},
   "source": [
    "# Tree Structures:"
   ]
  },
  {
   "cell_type": "markdown",
   "id": "e209e95f-381b-4c36-9a1a-8acb3924988b",
   "metadata": {},
   "source": [
    "- Nested dictionaries can be used to represent tree-like structures, such as directory trees or organizational hierarchies."
   ]
  },
  {
   "cell_type": "code",
   "execution_count": 389,
   "id": "2b51c434-50df-47c1-9a14-d046b7cab664",
   "metadata": {},
   "outputs": [
    {
     "data": {
      "text/plain": [
       "{'root': {'node1': {'node1.1': {},\n",
       "   'node1.2': {'node1.2.1': {}, 'node1.2.2': {}}},\n",
       "  'node2': {'node2.1': {}, 'node2.2': {}}}}"
      ]
     },
     "execution_count": 389,
     "metadata": {},
     "output_type": "execute_result"
    }
   ],
   "source": [
    "tree = {\n",
    "    \"root\": {\n",
    "        \"node1\": {\n",
    "            \"node1.1\": {},\n",
    "            \"node1.2\": {\n",
    "                \"node1.2.1\": {},\n",
    "                \"node1.2.2\": {}\n",
    "            }\n",
    "        },\n",
    "        \"node2\": {\n",
    "            \"node2.1\": {},\n",
    "            \"node2.2\": {}\n",
    "        }\n",
    "    }\n",
    "}\n",
    "tree"
   ]
  },
  {
   "cell_type": "markdown",
   "id": "b93088d3-c23d-49cb-9eb0-97708c1e0ec5",
   "metadata": {},
   "source": [
    "# Control flow statements \n",
    "- Control flow statements is used to control the flow of program execution based on conditions or loops."
   ]
  },
  {
   "cell_type": "markdown",
   "id": "6eaf9b6c",
   "metadata": {},
   "source": [
    "# if statements\n",
    "- if Statement: The if statement allows you to execute a block of code only if a  condition is true then will be run .\n",
    "- It's used for conditional execution."
   ]
  },
  {
   "cell_type": "code",
   "execution_count": 390,
   "id": "5573fcad",
   "metadata": {},
   "outputs": [],
   "source": [
    "a=5"
   ]
  },
  {
   "cell_type": "code",
   "execution_count": 391,
   "id": "f7f5bbb6",
   "metadata": {},
   "outputs": [
    {
     "name": "stdout",
     "output_type": "stream",
     "text": [
      "5\n",
      "55\n"
     ]
    }
   ],
   "source": [
    "if a<10:          # A is less 10 print it \n",
    "    print(a)\n",
    "    c=a+50\n",
    "    print(c)"
   ]
  },
  {
   "cell_type": "code",
   "execution_count": 392,
   "id": "aa1086b2",
   "metadata": {},
   "outputs": [
    {
     "name": "stdout",
     "output_type": "stream",
     "text": [
      "50\n",
      "value are 140\n"
     ]
    }
   ],
   "source": [
    "d=50\n",
    "if d>10:\n",
    "    print(d)\n",
    "    c=d+90\n",
    "    print('value are',c)"
   ]
  },
  {
   "cell_type": "markdown",
   "id": "0cc38a69",
   "metadata": {},
   "source": [
    "# else\n",
    "- if the condition is fail then will be else can be run\n"
   ]
  },
  {
   "cell_type": "code",
   "execution_count": 393,
   "id": "749836bb-4475-4b77-a418-e2034ff36051",
   "metadata": {},
   "outputs": [
    {
     "name": "stdout",
     "output_type": "stream",
     "text": [
      "value are 140\n"
     ]
    }
   ],
   "source": [
    "d=50\n",
    "if d<10:\n",
    "    print(d) \n",
    "else:           # this condition is fail so the else can run next conditiion \n",
    "    c=d+90\n",
    "    print('value are',c)"
   ]
  },
  {
   "cell_type": "markdown",
   "id": "de0ff0f9-755e-457a-900e-afb89cbe5186",
   "metadata": {},
   "source": [
    "# elif \n",
    "- the if condition is fail  they check entire statement then move to next condition it ."
   ]
  },
  {
   "cell_type": "code",
   "execution_count": 394,
   "id": "9758cd5a",
   "metadata": {},
   "outputs": [],
   "source": [
    "a=50"
   ]
  },
  {
   "cell_type": "code",
   "execution_count": 395,
   "id": "5d6822ce-f4fa-44bd-8115-d02306710354",
   "metadata": {},
   "outputs": [
    {
     "name": "stdout",
     "output_type": "stream",
     "text": [
      "The value is greater 20 and the value is : 50\n"
     ]
    }
   ],
   "source": [
    " if a<10:\n",
    "    print(a)\n",
    "    c=a+10\n",
    "    print('value are ',c)\n",
    "elif a==1:\n",
    "    print('The value is 20' )\n",
    "elif a==5:\n",
    "    print('the value is 10+10' )\n",
    "     \n",
    "else:\n",
    "    print( 'The value is greater 20 and the value is :',a)"
   ]
  },
  {
   "cell_type": "markdown",
   "id": "2e002a39",
   "metadata": {},
   "source": [
    "# Loops \n",
    "Loops is block of code  are used for performing repetitive tasks and iterating over sequences, collections, or ranges\n",
    "- for loop  \n",
    "- while loop \n",
    "     "
   ]
  },
  {
   "cell_type": "markdown",
   "id": "97445750-6985-4d95-bfd5-6e91f085b636",
   "metadata": {},
   "source": [
    "# for loop ."
   ]
  },
  {
   "cell_type": "markdown",
   "id": "0b49d483-ec5e-4cbe-b2e5-d4fde12594f4",
   "metadata": {},
   "source": [
    "-  A for loop is a control flow statement is used for iterating over a sequence\n",
    "- (such as a list, tuple, string, or range) and executing a specific block of code for each item in the sequence. "
   ]
  },
  {
   "cell_type": "code",
   "execution_count": 396,
   "id": "4c9c9d58",
   "metadata": {},
   "outputs": [
    {
     "data": {
      "text/plain": [
       "list"
      ]
     },
     "execution_count": 396,
     "metadata": {},
     "output_type": "execute_result"
    }
   ],
   "source": [
    "# for loop\n",
    "a=['dhana','gayu','kappu','kundachi']\n",
    "type(a)"
   ]
  },
  {
   "cell_type": "code",
   "execution_count": 397,
   "id": "5805c4df",
   "metadata": {},
   "outputs": [
    {
     "name": "stdout",
     "output_type": "stream",
     "text": [
      "dhana\n",
      "gayu\n",
      "kappu\n",
      "kundachi\n"
     ]
    }
   ],
   "source": [
    "for i in a:\n",
    "    print(i)\n",
    "     "
   ]
  },
  {
   "cell_type": "code",
   "execution_count": 398,
   "id": "a92c46ae",
   "metadata": {},
   "outputs": [
    {
     "name": "stdout",
     "output_type": "stream",
     "text": [
      "dhana\n",
      "hai\n",
      "gayu\n",
      "bye\n",
      "kappu\n",
      "bye\n",
      "kundachi\n",
      "bye\n",
      "the value is empty\n"
     ]
    }
   ],
   "source": [
    "for i in a:\n",
    "    print(i)\n",
    "    if i=='dhana':\n",
    "        print('hai')\n",
    "    else:\n",
    "        print('bye')\n",
    "else:\n",
    "    print('the value is empty')"
   ]
  },
  {
   "cell_type": "markdown",
   "id": "02dd28b7-0d33-47b6-9fbb-b5cc8f0959a3",
   "metadata": {},
   "source": [
    "# while loop\n",
    "- while loop is used to repeat a specific block of code an unknow number of time ,until if the condition is met "
   ]
  },
  {
   "cell_type": "code",
   "execution_count": 399,
   "id": "aaeb647e",
   "metadata": {},
   "outputs": [
    {
     "name": "stdout",
     "output_type": "stream",
     "text": [
      "1\n",
      "2\n",
      "3\n",
      "4\n",
      "5\n",
      "6\n",
      "7\n",
      "8\n",
      "9\n"
     ]
    }
   ],
   "source": [
    "i=1\n",
    "while i < 10:\n",
    "    print(i)\n",
    "    i=i+1"
   ]
  },
  {
   "cell_type": "markdown",
   "id": "ebf571e2",
   "metadata": {},
   "source": [
    "## Task\n",
    "- how to edit the tuple "
   ]
  },
  {
   "cell_type": "code",
   "execution_count": 400,
   "id": "76660687",
   "metadata": {},
   "outputs": [],
   "source": [
    "c=(1,2,3,4,5,'gayu')"
   ]
  },
  {
   "cell_type": "code",
   "execution_count": 401,
   "id": "43e25ec5",
   "metadata": {},
   "outputs": [
    {
     "data": {
      "text/plain": [
       "tuple"
      ]
     },
     "execution_count": 401,
     "metadata": {},
     "output_type": "execute_result"
    }
   ],
   "source": [
    "type(c)"
   ]
  },
  {
   "cell_type": "code",
   "execution_count": 402,
   "id": "a71209d8",
   "metadata": {},
   "outputs": [],
   "source": [
    "# type casting \n",
    "d=list(c)"
   ]
  },
  {
   "cell_type": "code",
   "execution_count": 403,
   "id": "853386b9",
   "metadata": {},
   "outputs": [
    {
     "data": {
      "text/plain": [
       "[1, 2, 3, 4, 5, 'gayu']"
      ]
     },
     "execution_count": 403,
     "metadata": {},
     "output_type": "execute_result"
    }
   ],
   "source": [
    "d"
   ]
  },
  {
   "cell_type": "code",
   "execution_count": 404,
   "id": "a2e0ebbd",
   "metadata": {},
   "outputs": [],
   "source": [
    "d.append('santhamani')    "
   ]
  },
  {
   "cell_type": "code",
   "execution_count": 405,
   "id": "f24fdf7a",
   "metadata": {},
   "outputs": [
    {
     "data": {
      "text/plain": [
       "[1, 2, 3, 4, 5, 'gayu', 'santhamani']"
      ]
     },
     "execution_count": 405,
     "metadata": {},
     "output_type": "execute_result"
    }
   ],
   "source": [
    "d"
   ]
  },
  {
   "cell_type": "code",
   "execution_count": 406,
   "id": "600975f4",
   "metadata": {},
   "outputs": [],
   "source": [
    "c=tuple(d)"
   ]
  },
  {
   "cell_type": "code",
   "execution_count": 407,
   "id": "c4da8387",
   "metadata": {},
   "outputs": [
    {
     "data": {
      "text/plain": [
       "(1, 2, 3, 4, 5, 'gayu', 'santhamani')"
      ]
     },
     "execution_count": 407,
     "metadata": {},
     "output_type": "execute_result"
    }
   ],
   "source": [
    "c\n"
   ]
  },
  {
   "cell_type": "code",
   "execution_count": 408,
   "id": "bb20361a",
   "metadata": {},
   "outputs": [
    {
     "data": {
      "text/plain": [
       "tuple"
      ]
     },
     "execution_count": 408,
     "metadata": {},
     "output_type": "execute_result"
    }
   ],
   "source": [
    "type(c)"
   ]
  },
  {
   "cell_type": "markdown",
   "id": "593bc4b5",
   "metadata": {},
   "source": [
    "# 2 . how to remove the duplicate from list or tuple"
   ]
  },
  {
   "cell_type": "code",
   "execution_count": 409,
   "id": "332bc695",
   "metadata": {},
   "outputs": [],
   "source": [
    "l=[1,2,3,4,4,4,7,'dhana','hari'] # tuple in duplicate "
   ]
  },
  {
   "cell_type": "code",
   "execution_count": 410,
   "id": "ec6c20ed",
   "metadata": {},
   "outputs": [
    {
     "data": {
      "text/plain": [
       "list"
      ]
     },
     "execution_count": 410,
     "metadata": {},
     "output_type": "execute_result"
    }
   ],
   "source": [
    "type(l)"
   ]
  },
  {
   "cell_type": "code",
   "execution_count": 411,
   "id": "b091ce89",
   "metadata": {},
   "outputs": [
    {
     "data": {
      "text/plain": [
       "{1, 2, 3, 4, 7, 'dhana', 'hari'}"
      ]
     },
     "execution_count": 411,
     "metadata": {},
     "output_type": "execute_result"
    }
   ],
   "source": [
    "l=set(l) # duplicate are removed  \n",
    "l"
   ]
  },
  {
   "cell_type": "markdown",
   "id": "66ebc2f0",
   "metadata": {},
   "source": [
    "# stack \n",
    "     .last in (append)\n",
    "     .1 st out (pop)"
   ]
  },
  {
   "cell_type": "code",
   "execution_count": 412,
   "id": "1b254698",
   "metadata": {},
   "outputs": [],
   "source": [
    "stack = [1,2,3,4,5,6]"
   ]
  },
  {
   "cell_type": "code",
   "execution_count": 413,
   "id": "245ebb11",
   "metadata": {},
   "outputs": [],
   "source": [
    "stack.append(8)"
   ]
  },
  {
   "cell_type": "code",
   "execution_count": 414,
   "id": "5fb47eac",
   "metadata": {},
   "outputs": [
    {
     "data": {
      "text/plain": [
       "[1, 2, 3, 4, 5, 6, 8]"
      ]
     },
     "execution_count": 414,
     "metadata": {},
     "output_type": "execute_result"
    }
   ],
   "source": [
    "stack"
   ]
  },
  {
   "cell_type": "code",
   "execution_count": 415,
   "id": "2e474acd",
   "metadata": {},
   "outputs": [
    {
     "data": {
      "text/plain": [
       "8"
      ]
     },
     "execution_count": 415,
     "metadata": {},
     "output_type": "execute_result"
    }
   ],
   "source": [
    "stack.pop()"
   ]
  },
  {
   "cell_type": "code",
   "execution_count": 416,
   "id": "e6e45335",
   "metadata": {},
   "outputs": [
    {
     "data": {
      "text/plain": [
       "[1, 2, 3, 4, 5, 6]"
      ]
     },
     "execution_count": 416,
     "metadata": {},
     "output_type": "execute_result"
    }
   ],
   "source": [
    "stack"
   ]
  },
  {
   "cell_type": "markdown",
   "id": "dbbc5876",
   "metadata": {},
   "source": [
    "## List comperhension\n",
    "- List comprehensions provide a concise way to create lists\n",
    "- to create a emty list and store the value in empty list is called List comprehensions"
   ]
  },
  {
   "cell_type": "code",
   "execution_count": 417,
   "id": "99bf3edc",
   "metadata": {},
   "outputs": [
    {
     "name": "stdout",
     "output_type": "stream",
     "text": [
      "0\n",
      "1\n",
      "4\n",
      "9\n",
      "16\n",
      "25\n",
      "36\n",
      "49\n",
      "64\n",
      "81\n"
     ]
    }
   ],
   "source": [
    "for x in range(10): # there is no empty list so we cannot store the c values ,\n",
    "    c=x**2\n",
    "    print(c)"
   ]
  },
  {
   "cell_type": "code",
   "execution_count": 418,
   "id": "7ff9329e-5472-4666-9458-f39a731918bb",
   "metadata": {},
   "outputs": [
    {
     "data": {
      "text/plain": [
       "81"
      ]
     },
     "execution_count": 418,
     "metadata": {},
     "output_type": "execute_result"
    }
   ],
   "source": [
    " c"
   ]
  },
  {
   "cell_type": "code",
   "execution_count": 419,
   "id": "efa42e37-33be-4fb7-aa70-21b8a1191055",
   "metadata": {},
   "outputs": [],
   "source": [
    "squares=[]          # here we create a empty list so we can store the value of square \n",
    "for x in range(10):\n",
    "    squares.append(x**2) \n",
    "    "
   ]
  },
  {
   "cell_type": "code",
   "execution_count": 420,
   "id": "51881b6e-5ea1-4a34-ad52-9ac282026fa4",
   "metadata": {},
   "outputs": [
    {
     "data": {
      "text/plain": [
       "[0, 1, 4, 9, 16, 25, 36, 49, 64, 81]"
      ]
     },
     "execution_count": 420,
     "metadata": {},
     "output_type": "execute_result"
    }
   ],
   "source": [
    "squares"
   ]
  },
  {
   "cell_type": "code",
   "execution_count": 421,
   "id": "5cbd9296-6397-48f4-a5ec-28639628173f",
   "metadata": {},
   "outputs": [
    {
     "data": {
      "text/plain": [
       "[0, 1, 4, 9, 16, 25, 36, 49, 64, 81]"
      ]
     },
     "execution_count": 421,
     "metadata": {},
     "output_type": "execute_result"
    }
   ],
   "source": [
    "# same as List comprehension another method \n",
    "squares = [x**2 for x in range(10)]\n",
    "squares"
   ]
  },
  {
   "cell_type": "code",
   "execution_count": 422,
   "id": "054f28ff",
   "metadata": {},
   "outputs": [],
   "source": [
    "a=range(1,10)"
   ]
  },
  {
   "cell_type": "code",
   "execution_count": 423,
   "id": "8dfdf338",
   "metadata": {},
   "outputs": [
    {
     "data": {
      "text/plain": [
       "range(1, 10)"
      ]
     },
     "execution_count": 423,
     "metadata": {},
     "output_type": "execute_result"
    }
   ],
   "source": [
    "a  "
   ]
  },
  {
   "cell_type": "code",
   "execution_count": 424,
   "id": "f553f787",
   "metadata": {},
   "outputs": [
    {
     "data": {
      "text/plain": [
       "[1, 2, 3, 4, 5, 6, 7, 8, 9]"
      ]
     },
     "execution_count": 424,
     "metadata": {},
     "output_type": "execute_result"
    }
   ],
   "source": [
    "list(a)"
   ]
  },
  {
   "cell_type": "markdown",
   "id": "80905c14",
   "metadata": {},
   "source": [
    "# Fuctions \n",
    "- A function is a block of reusable  code ,which  only run when it is called "
   ]
  },
  {
   "cell_type": "markdown",
   "id": "7e5d1a90",
   "metadata": {},
   "source": [
    " # Type of function\n",
    "- python bulit in  function \n",
    "    - example : print, for , if  ... etc \n",
    "- python user define functions\n",
    "- python lambda fuctions \n",
    "- python recursion funtions\n",
    "      "
   ]
  },
  {
   "cell_type": "markdown",
   "id": "59a7fe52-b206-4628-bfb5-181acd075af4",
   "metadata": {},
   "source": [
    "# bulit in  function\n",
    "- Built-in functions included in the Python language itself so we dont  without the need to import any external modules or libraries. \n",
    "- Built-in functions in Python are pre-defined functions that are provided by the Python programming language. These functions are part of the Python standard library and can be used without the need to define them"
   ]
  },
  {
   "cell_type": "code",
   "execution_count": 425,
   "id": "914ed5ad-e24e-4abb-8168-a93047edae77",
   "metadata": {},
   "outputs": [
    {
     "name": "stdout",
     "output_type": "stream",
     "text": [
      "The length of the string is: 13\n"
     ]
    }
   ],
   "source": [
    "# Example of the len() function and the str data type\n",
    "\n",
    "# Define a string\n",
    "text = \"Hello, World!\"\n",
    "\n",
    "# Use the len() function to find the length of the string\n",
    "length = len(text)\n",
    "\n",
    "# Print the result\n",
    "print(f\"The length of the string is: {length}\")\n"
   ]
  },
  {
   "cell_type": "markdown",
   "id": "faed8a67-1e2a-4602-9efe-8f22c80e3178",
   "metadata": {},
   "source": [
    "# User-define-Function \n",
    "- A user-defined function is a custom function created by a programmer to perform a specific task or set of tasks.\n",
    "- These functions are defined    using the *def* keyword in Python and follow a specific structure."
   ]
  },
  {
   "cell_type": "code",
   "execution_count": 426,
   "id": "dcc2d046",
   "metadata": {},
   "outputs": [],
   "source": [
    "# function is block of reuseable code for example \n",
    "x=[1,2,3,4]\n",
    "y=[4,5,3,6]\n",
    "z=[6,5,8,9]\n"
   ]
  },
  {
   "cell_type": "code",
   "execution_count": 427,
   "id": "7dea2047",
   "metadata": {},
   "outputs": [],
   "source": [
    "def l_comp(a):                    # def is function|l_comp()- function name|(a)---- attribute                             , \n",
    "    d=[]\n",
    "    for i in a:       \n",
    "        c=i+10\n",
    "        d.append(c)\n",
    "    return d                     # Must use return fuction in fuction not use print  \n",
    "                                 # because  we cannot store print in variable "
   ]
  },
  {
   "cell_type": "code",
   "execution_count": 428,
   "id": "949f218b",
   "metadata": {},
   "outputs": [
    {
     "data": {
      "text/plain": [
       "[11, 12, 13, 14]"
      ]
     },
     "execution_count": 428,
     "metadata": {},
     "output_type": "execute_result"
    }
   ],
   "source": [
    "l_comp(x)                      # we have to call where ever you want using to call fuction name "
   ]
  },
  {
   "cell_type": "code",
   "execution_count": 429,
   "id": "e7cdc826",
   "metadata": {},
   "outputs": [
    {
     "data": {
      "text/plain": [
       "[14, 15, 13, 16]"
      ]
     },
     "execution_count": 429,
     "metadata": {},
     "output_type": "execute_result"
    }
   ],
   "source": [
    "l_comp(y)"
   ]
  },
  {
   "cell_type": "code",
   "execution_count": 430,
   "id": "1b92f570",
   "metadata": {},
   "outputs": [
    {
     "data": {
      "text/plain": [
       "[16, 15, 18, 19]"
      ]
     },
     "execution_count": 430,
     "metadata": {},
     "output_type": "execute_result"
    }
   ],
   "source": [
    "l_comp(z)"
   ]
  },
  {
   "cell_type": "markdown",
   "id": "5966829b-33e5-4daf-ac9c-29b77dc4b5d4",
   "metadata": {},
   "source": [
    "# print vs retrun "
   ]
  },
  {
   "cell_type": "code",
   "execution_count": 431,
   "id": "353b8961-e5d6-49da-a14f-ca858849892f",
   "metadata": {},
   "outputs": [],
   "source": [
    "e=[6,5,8,9]\n",
    "f=[4,5,3,6]\n",
    "g=[1,2,3,4]"
   ]
  },
  {
   "cell_type": "code",
   "execution_count": 432,
   "id": "1990b890-ed25-4b4f-85b3-b31efa69132c",
   "metadata": {},
   "outputs": [],
   "source": [
    "def l_comp(b):                                                 \n",
    "    d=[]\n",
    "    for i in b:       \n",
    "        c=i+10\n",
    "        d.append(c)\n",
    "    print (d) "
   ]
  },
  {
   "cell_type": "code",
   "execution_count": 433,
   "id": "e3820695",
   "metadata": {},
   "outputs": [
    {
     "name": "stdout",
     "output_type": "stream",
     "text": [
      "[16, 15, 18, 19]\n"
     ]
    }
   ],
   "source": [
    "e=l_comp(e) "
   ]
  },
  {
   "cell_type": "code",
   "execution_count": 434,
   "id": "e4a78d6c",
   "metadata": {},
   "outputs": [
    {
     "name": "stdout",
     "output_type": "stream",
     "text": [
      "[14, 15, 13, 16]\n"
     ]
    }
   ],
   "source": [
    "f=l_comp(f) "
   ]
  },
  {
   "cell_type": "code",
   "execution_count": 435,
   "id": "b3363bca-e237-4344-aa1f-18e48fb58af9",
   "metadata": {},
   "outputs": [
    {
     "name": "stdout",
     "output_type": "stream",
     "text": [
      "[11, 12, 13, 14]\n"
     ]
    }
   ],
   "source": [
    "g=l_comp(g) "
   ]
  },
  {
   "cell_type": "code",
   "execution_count": 436,
   "id": "a3a6cf49-14de-47a2-bcb8-8cae135b7a9b",
   "metadata": {},
   "outputs": [],
   "source": [
    "g # print function cannot print the variable cannot sotre in print "
   ]
  },
  {
   "cell_type": "code",
   "execution_count": 437,
   "id": "7620f2a4-65d6-4a20-8f45-06712057d9d7",
   "metadata": {},
   "outputs": [],
   "source": [
    "i=[6,5,8,9]\n",
    "j=[4,5,3,6]\n",
    "k=[1,2,3,4]"
   ]
  },
  {
   "cell_type": "code",
   "execution_count": 438,
   "id": "244caf68-a518-4c30-908a-5f8168273b97",
   "metadata": {},
   "outputs": [],
   "source": [
    "def l_comp(l):                                                 \n",
    "    d=[]\n",
    "    for i in l:       \n",
    "        c=i+10\n",
    "        d.append(c)\n",
    "    return d"
   ]
  },
  {
   "cell_type": "code",
   "execution_count": 439,
   "id": "9d08b78c-439f-404d-af72-7c47af4061d2",
   "metadata": {},
   "outputs": [],
   "source": [
    "i=l_comp(i)\n",
    "j=l_comp(j)\n",
    "k=l_comp(k)"
   ]
  },
  {
   "cell_type": "code",
   "execution_count": 440,
   "id": "cd528664-d75c-417c-a8e8-fcd4a1a48334",
   "metadata": {},
   "outputs": [
    {
     "data": {
      "text/plain": [
       "[16, 15, 18, 19]"
      ]
     },
     "execution_count": 440,
     "metadata": {},
     "output_type": "execute_result"
    }
   ],
   "source": [
    "i # this is can function run the variable to store "
   ]
  },
  {
   "cell_type": "code",
   "execution_count": 441,
   "id": "ba8854a3-db26-4b56-8aa7-55e6b0edb75e",
   "metadata": {},
   "outputs": [],
   "source": [
    "# poistion of arguments is important "
   ]
  },
  {
   "cell_type": "code",
   "execution_count": 442,
   "id": "5c466ecb",
   "metadata": {},
   "outputs": [],
   "source": [
    "def add (a,b):\n",
    "    c= a+b\n",
    "    return c"
   ]
  },
  {
   "cell_type": "code",
   "execution_count": 443,
   "id": "6c9582ee",
   "metadata": {},
   "outputs": [
    {
     "data": {
      "text/plain": [
       "15"
      ]
     },
     "execution_count": 443,
     "metadata": {},
     "output_type": "execute_result"
    }
   ],
   "source": [
    "add(10,5)"
   ]
  },
  {
   "cell_type": "code",
   "execution_count": 444,
   "id": "7f52269d",
   "metadata": {},
   "outputs": [],
   "source": [
    "def div (a,b):\n",
    "    c= a/b\n",
    "    return c"
   ]
  },
  {
   "cell_type": "code",
   "execution_count": 445,
   "id": "1ba10416",
   "metadata": {},
   "outputs": [
    {
     "data": {
      "text/plain": [
       "3.0"
      ]
     },
     "execution_count": 445,
     "metadata": {},
     "output_type": "execute_result"
    }
   ],
   "source": [
    "div(6,2)"
   ]
  },
  {
   "cell_type": "code",
   "execution_count": 446,
   "id": "1c053940",
   "metadata": {},
   "outputs": [],
   "source": [
    "def div (a,b):     # position of the arugument all to call is important \n",
    "    c=a/b\n",
    "\n",
    "    print('a :',a)\n",
    "    print('b :',b)\n",
    "    return c"
   ]
  },
  {
   "cell_type": "code",
   "execution_count": 447,
   "id": "fe95148d",
   "metadata": {},
   "outputs": [
    {
     "name": "stdout",
     "output_type": "stream",
     "text": [
      "a : 10\n",
      "b : 2\n"
     ]
    },
    {
     "data": {
      "text/plain": [
       "5.0"
      ]
     },
     "execution_count": 447,
     "metadata": {},
     "output_type": "execute_result"
    }
   ],
   "source": [
    "div(10,2)"
   ]
  },
  {
   "cell_type": "code",
   "execution_count": 448,
   "id": "7f1f6cc7",
   "metadata": {},
   "outputs": [],
   "source": [
    "a=15\n",
    "b=16             # gobal variable is out side the function \n",
    "def add (a,b):\n",
    "    h=a+b          # local variable is inside the function \n",
    "    print(h,a,b)\n",
    "                    "
   ]
  },
  {
   "cell_type": "code",
   "execution_count": 449,
   "id": "175a8a8a",
   "metadata": {},
   "outputs": [
    {
     "data": {
      "text/plain": [
       "15"
      ]
     },
     "execution_count": 449,
     "metadata": {},
     "output_type": "execute_result"
    }
   ],
   "source": [
    "a"
   ]
  },
  {
   "cell_type": "code",
   "execution_count": 450,
   "id": "3f692cc3",
   "metadata": {},
   "outputs": [
    {
     "data": {
      "text/plain": [
       "16"
      ]
     },
     "execution_count": 450,
     "metadata": {},
     "output_type": "execute_result"
    }
   ],
   "source": [
    "b"
   ]
  },
  {
   "cell_type": "code",
   "execution_count": 451,
   "id": "c96deaf7",
   "metadata": {},
   "outputs": [
    {
     "ename": "NameError",
     "evalue": "name 'h' is not defined",
     "output_type": "error",
     "traceback": [
      "\u001b[1;31m---------------------------------------------------------------------------\u001b[0m",
      "\u001b[1;31mNameError\u001b[0m                                 Traceback (most recent call last)",
      "Cell \u001b[1;32mIn[451], line 1\u001b[0m\n\u001b[1;32m----> 1\u001b[0m \u001b[43mh\u001b[49m       \n\u001b[0;32m      2\u001b[0m          \u001b[38;5;66;03m# because the local variable is not come out the function  using print \u001b[39;00m\n\u001b[0;32m      3\u001b[0m          \u001b[38;5;66;03m#\\ but u can call the local variable using return fuction to call the value\u001b[39;00m\n",
      "\u001b[1;31mNameError\u001b[0m: name 'h' is not defined"
     ]
    }
   ],
   "source": [
    "h       \n",
    "         # because the local variable is not come out the function  using print \n",
    "         #\\ but u can call the local variable using return fuction to call the value"
   ]
  },
  {
   "cell_type": "code",
   "execution_count": 452,
   "id": "613964a8-4986-4189-81ed-1bc11f51b084",
   "metadata": {},
   "outputs": [],
   "source": [
    "def add(a, b):\n",
    "    \"\"\"\n",
    "    This function adds two numbers and returns the result.\n",
    "    :param a: The first number\n",
    "    :param b: The second number\n",
    "    :return: The sum of a and b\n",
    "    \"\"\"\n",
    "    c= a + b\n",
    "    return c"
   ]
  },
  {
   "cell_type": "code",
   "execution_count": 453,
   "id": "60422424-4071-4b59-95ce-49ba63dc66ea",
   "metadata": {},
   "outputs": [
    {
     "data": {
      "text/plain": [
       "8"
      ]
     },
     "execution_count": 453,
     "metadata": {},
     "output_type": "execute_result"
    }
   ],
   "source": [
    "add(6,2)"
   ]
  },
  {
   "cell_type": "markdown",
   "id": "448f57de",
   "metadata": {},
   "source": [
    "# lambda fuction \n",
    "- In Python, a lambda function, also known as an anonymous function or a lambda expression, is a small, unnamed function that is defined using the lambda keyword. Lambda functions are often used for short, simple operations where a full function definition with a name and the def keyword is not necessary. Lambda functions are primarily used for creating small, one-time-use functions that can be passed as arguments to higher-order functions like map, filter, and sorted"
   ]
  },
  {
   "cell_type": "code",
   "execution_count": 454,
   "id": "30334399",
   "metadata": {},
   "outputs": [],
   "source": [
    "# normal one \n",
    "def sum(a):\n",
    "    c=a+10\n",
    "    return(c)"
   ]
  },
  {
   "cell_type": "code",
   "execution_count": 455,
   "id": "4def516c",
   "metadata": {},
   "outputs": [],
   "source": [
    "c= sum(2)"
   ]
  },
  {
   "cell_type": "code",
   "execution_count": 456,
   "id": "07f93c1b",
   "metadata": {},
   "outputs": [
    {
     "data": {
      "text/plain": [
       "12"
      ]
     },
     "execution_count": 456,
     "metadata": {},
     "output_type": "execute_result"
    }
   ],
   "source": [
    "c"
   ]
  },
  {
   "cell_type": "code",
   "execution_count": 457,
   "id": "e630d552",
   "metadata": {},
   "outputs": [],
   "source": [
    "# lambda style \n",
    "c=lambda a:a*10"
   ]
  },
  {
   "cell_type": "code",
   "execution_count": 458,
   "id": "bcaaea41",
   "metadata": {},
   "outputs": [
    {
     "data": {
      "text/plain": [
       "20"
      ]
     },
     "execution_count": 458,
     "metadata": {},
     "output_type": "execute_result"
    }
   ],
   "source": [
    "c(2)"
   ]
  },
  {
   "cell_type": "code",
   "execution_count": 459,
   "id": "f23f3331",
   "metadata": {},
   "outputs": [
    {
     "data": {
      "text/plain": [
       "40"
      ]
     },
     "execution_count": 459,
     "metadata": {},
     "output_type": "execute_result"
    }
   ],
   "source": [
    "10+c(3)"
   ]
  },
  {
   "cell_type": "markdown",
   "id": "8d3cbf11-ca63-4191-9ca7-bda6198f5382",
   "metadata": {},
   "source": [
    "# recursion fuction\n",
    "- A recursive function in Python is a function that calls itself to solve a problem by breaking it down into smaller, similar subproblems\n",
    "-  Recursive functions are commonly used to solve problems that can be expressed in terms of smaller instances of the same problem"
   ]
  },
  {
   "cell_type": "code",
   "execution_count": 460,
   "id": "00b3815c-2354-4f0f-b174-613c7a1fed34",
   "metadata": {},
   "outputs": [],
   "source": [
    "# def factorial(n):\n",
    "    # Base case: If n is 0 or 1, return 1.\n",
    "    #if n == 0 or n == 1:\n",
    "        #return 1\n",
    "    # Recursive case: n! = n * (n-1)!\n",
    "    #else:\n",
    "        #return n * factorial(n - 1)\n",
    "\n",
    "# Example usage\n",
    "#result = factorial(5)\n",
    "#print(result)  # Output: 120"
   ]
  },
  {
   "cell_type": "markdown",
   "id": "aec25bcf-0a08-45b5-9678-678458b13c15",
   "metadata": {},
   "source": [
    "# pass\n",
    "- In this example, pass is used in both a function and a class definition to indicate that they are currently empty but will be implemented laterations.\r\n",
    "\r\n",
    "\r\n",
    "\r\n",
    "\r\n",
    "\r\n"
   ]
  },
  {
   "cell_type": "code",
   "execution_count": 461,
   "id": "f1c50571",
   "metadata": {},
   "outputs": [],
   "source": [
    "def sum(a): \n",
    "    pass              # pass its is used to pass the fuction it cannot be the run the fuction \n",
    "    c=a+10 \n",
    "    return(c)\n",
    "    sum(a)"
   ]
  },
  {
   "cell_type": "code",
   "execution_count": 462,
   "id": "f441b3d6",
   "metadata": {},
   "outputs": [],
   "source": [
    "sum(3)\n",
    "pass"
   ]
  },
  {
   "cell_type": "markdown",
   "id": "85ec3af6",
   "metadata": {},
   "source": [
    "## break \n",
    "- The break statement is used to exit a loop prematurely. It is often used within loops (for, while) \n",
    "- to terminate the loop when a certain condition is met."
   ]
  },
  {
   "cell_type": "code",
   "execution_count": 463,
   "id": "a781c01e",
   "metadata": {},
   "outputs": [],
   "source": [
    "a=[2,3,4,5,1]"
   ]
  },
  {
   "cell_type": "code",
   "execution_count": 464,
   "id": "0f346384",
   "metadata": {},
   "outputs": [],
   "source": [
    "def demo(a):\n",
    "    for i in a:\n",
    "        if i==1:\n",
    "            print('a is one,five:',i)\n",
    "            break                        # it break the value \n",
    "        else:\n",
    "             print('a is not one,five:',i)\n",
    "            "
   ]
  },
  {
   "cell_type": "code",
   "execution_count": 465,
   "id": "ed53837e",
   "metadata": {},
   "outputs": [
    {
     "name": "stdout",
     "output_type": "stream",
     "text": [
      "a is not one,five: 2\n",
      "a is not one,five: 3\n",
      "a is not one,five: 4\n",
      "a is not one,five: 5\n",
      "a is one,five: 1\n"
     ]
    }
   ],
   "source": [
    "demo(a)"
   ]
  },
  {
   "cell_type": "markdown",
   "id": "f45539b1-08f6-4d23-855d-ed2df4d81051",
   "metadata": {},
   "source": [
    "# continue\n",
    "- The continue statement is used within a loop to skip the current iteration and move to the next one. \n",
    "- It is often used when you want to skip specific iterations based on a condition."
   ]
  },
  {
   "cell_type": "code",
   "execution_count": 466,
   "id": "6794e3d2-34d2-4478-9f7c-883e2db5b7d0",
   "metadata": {},
   "outputs": [
    {
     "name": "stdout",
     "output_type": "stream",
     "text": [
      "1\n",
      "2\n",
      "4\n",
      "5\n"
     ]
    }
   ],
   "source": [
    "for number in range(1, 6):\n",
    "    if number == 3:\n",
    "        continue  # Skip the current iteration when number is 3\n",
    "    print(number)\n"
   ]
  },
  {
   "cell_type": "markdown",
   "id": "a4b8f476-7d44-4621-85d0-2e6a7c27a8b0",
   "metadata": {},
   "source": [
    "# Module \n",
    "- In Python, a module is a file that contains Python code, including variables, functions, and classes\n",
    "- Modules are used to organize code into reusable and manageable unitss"
   ]
  },
  {
   "cell_type": "code",
   "execution_count": 467,
   "id": "3ae70769-93d3-4251-8e37-34712dadb75e",
   "metadata": {},
   "outputs": [],
   "source": [
    "def add(x, y):\n",
    "    return x + y\n"
   ]
  },
  {
   "cell_type": "code",
   "execution_count": 468,
   "id": "570cd256-56d3-466c-82fb-90079e28ffa3",
   "metadata": {},
   "outputs": [
    {
     "data": {
      "text/plain": [
       "11"
      ]
     },
     "execution_count": 468,
     "metadata": {},
     "output_type": "execute_result"
    }
   ],
   "source": [
    "add(5,6)"
   ]
  },
  {
   "cell_type": "markdown",
   "id": "d160ec70-8a99-47f8-a7e3-2ace28242c97",
   "metadata": {},
   "source": [
    "# Object oriented programming"
   ]
  },
  {
   "cell_type": "markdown",
   "id": "05438fa5-2ec6-4051-8dcf-b2d872c9c59a",
   "metadata": {},
   "source": [
    "oops concept was coined by alan kay around 1996.and the language is called as simula was the first programming language in future of oops\n",
    "today its application \n",
    "- Real Time Systems\n",
    "- Client Server System\n",
    "- Hypertext and Hypermedia\n",
    "- Object Oriented Database\n",
    "- Neural Networks and Parallel Programming\n",
    "- AI Expert Systems\n",
    "- Simulation and Modeling System\n",
    "- Office Automation Systems\n",
    "- CIM/CAD/CAM Systems\n",
    "- Computer Aided Designs\n",
    "\n",
    "\n"
   ]
  },
  {
   "cell_type": "markdown",
   "id": "40688cca-8ebe-4a60-80b7-13e515895bc3",
   "metadata": {},
   "source": [
    "What is object programming language ?\n",
    "\n",
    "object programming language(OOPS) is all  about creating an object \n",
    "An object is group of interrelated variables and function    \n",
    " - variable are often refferred to as properties  of an object\n",
    " - fuction are reffer to as the  behaviour of the object \n",
    "###########################################################################################################\n",
    " - object=function and variables that are interalated\n",
    " - variables=property of the object \n",
    " - function=behaviour \n",
    "###########################################################################################################\n",
    "example \n",
    " - object - car \n",
    " - variable {properties} - colour , model, price \n",
    " - function{behaviour}-Acceleration, gear change , power "
   ]
  },
  {
   "cell_type": "markdown",
   "id": "35c5b97d-aeda-4c00-953f-09aab0d33de2",
   "metadata": {},
   "source": [
    "# major concept oops\n",
    " -  class\n",
    " -  object\n",
    " -  method\n",
    " -  inheritanc\n",
    " -  polymorphism\n",
    " -  encapsulatio\n",
    " -  abstraction"
   ]
  },
  {
   "cell_type": "markdown",
   "id": "5dd6685c-1ed3-433b-9e7d-626cd8b18569",
   "metadata": {},
   "source": [
    "# Object-oriented-programming(OOPS)- Procedural Oriented Programming (POP)"
   ]
  },
  {
   "cell_type": "markdown",
   "id": "305e594a-ba5f-4606-983f-940f884f4ab3",
   "metadata": {},
   "source": [
    "\n",
    "POP\n",
    " - Procedure/Structure oriented funtion are arrange in specific sequence\n",
    " - There is no proper way of hiding the data, so data is insecure\n",
    " - pop is used for small task only reason is ( hard to debug )\n",
    " - Top-down."
   ]
  },
  {
   "cell_type": "code",
   "execution_count": 469,
   "id": "b68a83b9-b069-4ec4-8904-f7016e34f92d",
   "metadata": {},
   "outputs": [],
   "source": [
    "# example \n",
    "def dummy(a,b):\n",
    "    a=a+2\n",
    "    b=b+3\n",
    "    c=a/b\n",
    "    return c"
   ]
  },
  {
   "cell_type": "code",
   "execution_count": 470,
   "id": "c3adad91-6021-4c48-9c88-7c149b1d419a",
   "metadata": {},
   "outputs": [
    {
     "data": {
      "text/plain": [
       "0.7777777777777778"
      ]
     },
     "execution_count": 470,
     "metadata": {},
     "output_type": "execute_result"
    }
   ],
   "source": [
    "dummy(5,6)"
   ]
  },
  {
   "cell_type": "markdown",
   "id": "c5aad350-ad53-47bc-82bd-aba98fb3fcdb",
   "metadata": {},
   "source": [
    "OOPS\n",
    " - object-oriented-programming, language is all about creating an object.to solve the prblm to mutiple complex task  easly to use oops\n",
    " - Data is hidden in three modes public, private, and protected. hence data security increases.\n",
    " - Top-down."
   ]
  },
  {
   "cell_type": "markdown",
   "id": "1a9a3632",
   "metadata": {},
   "source": [
    "## oops concept "
   ]
  },
  {
   "cell_type": "code",
   "execution_count": 471,
   "id": "c59b2233-03e4-4d79-953d-36bc3d201520",
   "metadata": {},
   "outputs": [],
   "source": [
    "# for example of oops concept\n",
    "class dhana:\n",
    "    def __init__(self,a,b):\n",
    "        self.a=a\n",
    "        self.b=b\n",
    "    def add(self):\n",
    "        \"This program add two number and return the result\"\n",
    "        result=self.a+self.b\n",
    "        return result \n",
    "    def sub(self):\n",
    "        \"This program sub two number and return the result\"\n",
    "        result=self.a-self.b\n",
    "        return result    "
   ]
  },
  {
   "cell_type": "code",
   "execution_count": 472,
   "id": "bfb1b6c1-b1a7-4832-8fe9-40bb1530f81f",
   "metadata": {},
   "outputs": [],
   "source": [
    "o=dhana(6,5)"
   ]
  },
  {
   "cell_type": "code",
   "execution_count": 473,
   "id": "6c6be649-14ae-4751-982f-58c5d3880ff8",
   "metadata": {},
   "outputs": [
    {
     "data": {
      "text/plain": [
       "11"
      ]
     },
     "execution_count": 473,
     "metadata": {},
     "output_type": "execute_result"
    }
   ],
   "source": [
    "o.add()"
   ]
  },
  {
   "cell_type": "code",
   "execution_count": 474,
   "id": "b686e906-73f4-48a2-9757-1299befd037e",
   "metadata": {},
   "outputs": [
    {
     "data": {
      "text/plain": [
       "1"
      ]
     },
     "execution_count": 474,
     "metadata": {},
     "output_type": "execute_result"
    }
   ],
   "source": [
    "o.sub()"
   ]
  },
  {
   "cell_type": "markdown",
   "id": "8c93a45a",
   "metadata": {},
   "source": [
    "# class\n",
    "- class is nothing but collection of object "
   ]
  },
  {
   "cell_type": "raw",
   "id": "34a6b4e5-9787-43d1-af46-913975390305",
   "metadata": {
    "scrolled": true
   },
   "source": [
    "class class_name:\n",
    "     # class body \n",
    "    "
   ]
  },
  {
   "cell_type": "markdown",
   "id": "08df859e",
   "metadata": {},
   "source": [
    "# object \n",
    "- objectb is nothing but collecton  fuction and variable         "
   ]
  },
  {
   "cell_type": "raw",
   "id": "5049dba5-5d89-4908-a2fa-cb9b5095d7c6",
   "metadata": {},
   "source": [
    "obj=class_name()"
   ]
  },
  {
   "cell_type": "markdown",
   "id": "bf24648b-0d25-42b8-9b4f-9a1ebdf6e93c",
   "metadata": {},
   "source": [
    "# class constructor \n",
    "- assing the values to data members of the class when the object of the class is created\n",
    "  \n",
    "  for expl-init ,self etc  ## constructor methods\n",
    "  \n",
    "- class attribute vs instance attribute\n",
    "  \n",
    "  its nothing inside class contructor to use the attribute is called class attribute and we use the attribute inside the fuction  is called instance    attribute \n",
    "       \n",
    "    "
   ]
  },
  {
   "cell_type": "code",
   "execution_count": 475,
   "id": "01d1a9d4-0e19-424f-933b-935f707eff4d",
   "metadata": {},
   "outputs": [],
   "source": [
    "class car:\n",
    "    def __init__(self,name,mileage):    #( class constructed )                           \n",
    "        self.name=name\n",
    "        self.mileage= mileage   "
   ]
  },
  {
   "cell_type": "code",
   "execution_count": 476,
   "id": "e0da864f-ecac-4652-ba3c-3968da4fa53b",
   "metadata": {},
   "outputs": [],
   "source": [
    "class car:\n",
    "    car_type = \"xuv\"                   # class attribute\n",
    "    def __init__(self,name,mileage):                 \n",
    "        self.name=name               # instance attribute\n",
    "        self.mileage= mileage        # instance attribute                 "
   ]
  },
  {
   "cell_type": "markdown",
   "id": "80308873-5d7b-4d86-a996-a547b07aec56",
   "metadata": {},
   "source": [
    "\n",
    "# class method \n",
    "- methods are the function that we use to decribe the behaviour of the objects"
   ]
  },
  {
   "cell_type": "code",
   "execution_count": 477,
   "id": "2ea44e4b",
   "metadata": {},
   "outputs": [],
   "source": [
    "class car:\n",
    "    # class attribute\n",
    "    car_type = \"xuv\"  \n",
    "    # this is class constructor \n",
    "    def __init__(self,name,mileage):  \n",
    "        # instance attribute\n",
    "        self.name=name\n",
    "        self.mileage= mileage\n",
    "    # Behaviour of the object | this is a class method  , property of the obj\n",
    "    def description(self):                                                                  \n",
    "        return f\"the {self.name} car give the mileage of { self.mileage }km/1\"\n",
    "    \n",
    "    def max_speed(self , speed):\n",
    "        return f\" the {self.name } run at the maximum speed of {speed}km/hr\"                                               "
   ]
  },
  {
   "cell_type": "code",
   "execution_count": 478,
   "id": "7838d425",
   "metadata": {},
   "outputs": [],
   "source": [
    "# number and oder of the argument is matters.\n",
    "obj1 = car(\"skoda\",60.5)     "
   ]
  },
  {
   "cell_type": "code",
   "execution_count": 479,
   "id": "e42002ad",
   "metadata": {},
   "outputs": [
    {
     "data": {
      "text/plain": [
       "'the skoda car give the mileage of 60.5km/1'"
      ]
     },
     "execution_count": 479,
     "metadata": {},
     "output_type": "execute_result"
    }
   ],
   "source": [
    "obj1.description()"
   ]
  },
  {
   "cell_type": "code",
   "execution_count": 480,
   "id": "e85e0d9f",
   "metadata": {},
   "outputs": [
    {
     "data": {
      "text/plain": [
       "' the skoda run at the maximum speed of 150km/hr'"
      ]
     },
     "execution_count": 480,
     "metadata": {},
     "output_type": "execute_result"
    }
   ],
   "source": [
    "obj1.max_speed(150)"
   ]
  },
  {
   "cell_type": "markdown",
   "id": "dfd6e6ca",
   "metadata": {},
   "source": [
    "## inhertiance\n",
    "- inhertiance is the procedure in which one class inherits the attributes and methods of another  class\n",
    "  \n",
    "class parent_class\n",
    "- parent_class:finally which  one give the attribute and method to another class is called parent class \n",
    "\n",
    "class child_class\n",
    "- parent class:which one is to get form the attribute and method is called child class         "
   ]
  },
  {
   "cell_type": "code",
   "execution_count": 481,
   "id": "ef269aa3",
   "metadata": {},
   "outputs": [],
   "source": [
    "# for exmple for inhertience \n",
    "class jeva:                   # parent class\n",
    "    def __init__(self,name,mileage):                                    \n",
    "        self.name=name\n",
    "        self.mileage= mileage \n",
    "        \n",
    "    def description(self):                                                     \n",
    "        return f\"the {self.name} car give the mileage of { self.mileage }km/1\"\n",
    "    "
   ]
  },
  {
   "cell_type": "code",
   "execution_count": 482,
   "id": "292aa47c",
   "metadata": {},
   "outputs": [
    {
     "data": {
      "text/plain": [
       "'the skoda car give the mileage of 50km/1'"
      ]
     },
     "execution_count": 482,
     "metadata": {},
     "output_type": "execute_result"
    }
   ],
   "source": [
    "s=jeva('skoda',50)\n",
    "s.description()\n",
    "\n"
   ]
  },
  {
   "cell_type": "code",
   "execution_count": 483,
   "id": "e3d93342",
   "metadata": {},
   "outputs": [],
   "source": [
    "class Audi(jeva):    # child class \n",
    "    def audi_desc(self):\n",
    "        return \"This is the description method of class Audi\""
   ]
  },
  {
   "cell_type": "code",
   "execution_count": 484,
   "id": "21cb5c34",
   "metadata": {},
   "outputs": [],
   "source": [
    "obj3=Audi(\"Audi\",14)"
   ]
  },
  {
   "cell_type": "code",
   "execution_count": 485,
   "id": "1871d5e7",
   "metadata": {},
   "outputs": [
    {
     "data": {
      "text/plain": [
       "'the Audi car give the mileage of 14km/1'"
      ]
     },
     "execution_count": 485,
     "metadata": {},
     "output_type": "execute_result"
    }
   ],
   "source": [
    "obj3. description()"
   ]
  },
  {
   "cell_type": "code",
   "execution_count": 486,
   "id": "41bfa9cf",
   "metadata": {},
   "outputs": [
    {
     "data": {
      "text/plain": [
       "'This is the description method of class Audi'"
      ]
     },
     "execution_count": 486,
     "metadata": {},
     "output_type": "execute_result"
    }
   ],
   "source": [
    "obj3.audi_desc()"
   ]
  },
  {
   "cell_type": "markdown",
   "id": "a4f85544",
   "metadata": {},
   "source": [
    "# Encapsulation\n",
    "- encapsulation is nothing but to hide or protect varibles\n",
    "- for example:self.name__=name\n",
    "       "
   ]
  },
  {
   "cell_type": "code",
   "execution_count": 487,
   "id": "518700db-cab7-4969-bba6-24836daacad0",
   "metadata": {},
   "outputs": [
    {
     "data": {
      "text/plain": [
       "14"
      ]
     },
     "execution_count": 487,
     "metadata": {},
     "output_type": "execute_result"
    }
   ],
   "source": [
    "obj3.mileage"
   ]
  },
  {
   "cell_type": "code",
   "execution_count": 488,
   "id": "ab9b04f2-06eb-48b9-832b-19462e5aace7",
   "metadata": {},
   "outputs": [
    {
     "data": {
      "text/plain": [
       "'Audi'"
      ]
     },
     "execution_count": 488,
     "metadata": {},
     "output_type": "execute_result"
    }
   ],
   "source": [
    "obj3.name"
   ]
  },
  {
   "cell_type": "code",
   "execution_count": 489,
   "id": "504b1509-2426-45ff-8645-052716a95320",
   "metadata": {},
   "outputs": [],
   "source": [
    "class Car:\n",
    "    # class attribute\n",
    "    car_type = \"xuv\"  \n",
    "    # this is class constructor \n",
    "    def __init__(self,name,mileage):  \n",
    "        # instance attribute\n",
    "        self.name__=name                      # protected variable\n",
    "        self.mileage= mileage\n",
    "    # Behaviour of the object | this is a class method  , property of the obj\n",
    "    def description(self):                                                                  \n",
    "        return f\"the {self.name} car give the mileage of { self.mileage }km/1\"\n",
    "    \n",
    "    def max_speed(self , speed):\n",
    "        return f\" the {self.name } run at the maximum speed of {speed}km/hr\" "
   ]
  },
  {
   "cell_type": "code",
   "execution_count": 490,
   "id": "292d8a62-4bf6-474f-8064-f1e8310825fe",
   "metadata": {},
   "outputs": [],
   "source": [
    "obj4=Car(\"xuv\",75.53)\n"
   ]
  },
  {
   "cell_type": "code",
   "execution_count": 491,
   "id": "1edc7cdc-9d1f-404a-8147-c7c4ff20856f",
   "metadata": {},
   "outputs": [
    {
     "ename": "AttributeError",
     "evalue": "'Car' object has no attribute 'name'",
     "output_type": "error",
     "traceback": [
      "\u001b[1;31m---------------------------------------------------------------------------\u001b[0m",
      "\u001b[1;31mAttributeError\u001b[0m                            Traceback (most recent call last)",
      "Cell \u001b[1;32mIn[491], line 1\u001b[0m\n\u001b[1;32m----> 1\u001b[0m \u001b[43mobj4\u001b[49m\u001b[38;5;241;43m.\u001b[39;49m\u001b[43mname\u001b[49m \u001b[38;5;66;03m# it protected variable we cannot acces the variable but we access [obj4.name__]\u001b[39;00m\n",
      "\u001b[1;31mAttributeError\u001b[0m: 'Car' object has no attribute 'name'"
     ]
    }
   ],
   "source": [
    "obj4.name # it protected variable we cannot acces the variable but we access [obj4.name__]"
   ]
  },
  {
   "cell_type": "code",
   "execution_count": 492,
   "id": "aa3985c0-cb08-4d43-82d7-657a803b4e2b",
   "metadata": {},
   "outputs": [
    {
     "data": {
      "text/plain": [
       "'xuv'"
      ]
     },
     "execution_count": 492,
     "metadata": {},
     "output_type": "execute_result"
    }
   ],
   "source": [
    "# Accessing protected variable directly  from outside \n",
    "obj4.name__"
   ]
  },
  {
   "cell_type": "code",
   "execution_count": 493,
   "id": "5181b7ca-ca9a-491b-981b-fc533927f45c",
   "metadata": {},
   "outputs": [],
   "source": [
    "class Car:\n",
    "    # class attribute\n",
    "    car_type = \"xuv\"  \n",
    "    # this is class constructor \n",
    "    def __init__(self,name,mileage):  \n",
    "        # instance attribute\n",
    "        self.__name=name                      # private variable \n",
    "        self.mileage= mileage\n",
    "    # Behaviour of the object | this is a class method  , property of the obj\n",
    "    def description(self):                                                                  \n",
    "        return f\"the {self.name} car give the mileage of { self.mileage }km/1\"\n",
    "    \n",
    "    def max_speed(self , speed):\n",
    "        return f\" the {self.name } run at the maximum speed of {speed}km/hr\" "
   ]
  },
  {
   "cell_type": "code",
   "execution_count": 494,
   "id": "4fa1fda4",
   "metadata": {},
   "outputs": [],
   "source": [
    "obj4=Car(\"xuv\",75.53)\n"
   ]
  },
  {
   "cell_type": "code",
   "execution_count": 495,
   "id": "5220b134-2de5-4785-a30f-f3867565c630",
   "metadata": {},
   "outputs": [
    {
     "ename": "AttributeError",
     "evalue": "'Car' object has no attribute '__name'",
     "output_type": "error",
     "traceback": [
      "\u001b[1;31m---------------------------------------------------------------------------\u001b[0m",
      "\u001b[1;31mAttributeError\u001b[0m                            Traceback (most recent call last)",
      "Cell \u001b[1;32mIn[495], line 1\u001b[0m\n\u001b[1;32m----> 1\u001b[0m \u001b[43mobj4\u001b[49m\u001b[38;5;241;43m.\u001b[39;49m\u001b[43m__name\u001b[49m \u001b[38;5;66;03m# we never access to see tha name because this private variable not prodected variable \u001b[39;00m\n",
      "\u001b[1;31mAttributeError\u001b[0m: 'Car' object has no attribute '__name'"
     ]
    }
   ],
   "source": [
    "obj4.__name # we never access to see tha name because this private variable not prodected variable "
   ]
  },
  {
   "cell_type": "code",
   "execution_count": 496,
   "id": "79754e18-a50d-4a0d-a3db-ead73084d25a",
   "metadata": {},
   "outputs": [
    {
     "data": {
      "text/plain": [
       "'xuv'"
      ]
     },
     "execution_count": 496,
     "metadata": {},
     "output_type": "execute_result"
    }
   ],
   "source": [
    "# but we  Accessing protected variable directly  from outside using this code\n",
    "obj4._Car__name        # mangled name \n"
   ]
  },
  {
   "cell_type": "markdown",
   "id": "b4c31aba",
   "metadata": {},
   "source": [
    "## polymorphism\n",
    "        .fuction having same name but diferent functionalities"
   ]
  },
  {
   "cell_type": "code",
   "execution_count": 497,
   "id": "93f61337-bcfb-4e2b-8442-884b68734263",
   "metadata": {},
   "outputs": [
    {
     "name": "stdout",
     "output_type": "stream",
     "text": [
      "Woof!\n",
      "Meow!\n"
     ]
    }
   ],
   "source": [
    "class Animal:\n",
    "    def speak(self):\n",
    "        pass    \n",
    "class Dog(Animal):\n",
    "    def speak(self):\n",
    "        return \"Woof!\"\n",
    "class Cat(Animal):\n",
    "    def speak(self):\n",
    "        return \"Meow!\"\n",
    "def animal_sound(animal):\n",
    "    return animal.speak()\n",
    "\n",
    "dog = Dog()\n",
    "cat = Cat()\n",
    "\n",
    "print(animal_sound(dog)) \n",
    "print(animal_sound(cat))\n"
   ]
  },
  {
   "cell_type": "markdown",
   "id": "5639b5a7",
   "metadata": {},
   "source": [
    "## data abstraction \n",
    "       . it is blue brint for other classes "
   ]
  },
  {
   "cell_type": "code",
   "execution_count": 498,
   "id": "3b0c3fb3-a210-49ff-9b8c-2c642aa6d22d",
   "metadata": {},
   "outputs": [
    {
     "name": "stdout",
     "output_type": "stream",
     "text": [
      "Buddy says Woof!\n",
      "Whiskers says Meow!\n",
      "Daffy says Quack!\n"
     ]
    }
   ],
   "source": [
    "from abc import ABC, abstractmethod\n",
    "\n",
    "# Define an abstract class (the blueprint)\n",
    "class Animal(ABC):\n",
    "    def __init__(self, name):\n",
    "        self.name = name\n",
    "\n",
    "    @abstractmethod\n",
    "    def speak(self):\n",
    "        pass\n",
    "\n",
    "# Create concrete subclasses\n",
    "class Dog(Animal):\n",
    "    def speak(self):\n",
    "        return f\"{self.name} says Woof!\"\n",
    "\n",
    "class Cat(Animal):\n",
    "    def speak(self):\n",
    "        return f\"{self.name} says Meow!\"\n",
    "\n",
    "class Duck(Animal):\n",
    "    def speak(self):\n",
    "        return f\"{self.name} says Quack!\"\n",
    "\n",
    "# Create instances of concrete classes\n",
    "dog = Dog(\"Buddy\")\n",
    "cat = Cat(\"Whiskers\")\n",
    "duck = Duck(\"Daffy\")\n",
    "\n",
    "# Interact with objects using the common interface\n",
    "print(dog.speak()) \n",
    "print(cat.speak()) \n",
    "print(duck.speak())  "
   ]
  },
  {
   "cell_type": "code",
   "execution_count": null,
   "id": "ed6e07f0-44d7-4b5e-a64c-50e7a9648e2a",
   "metadata": {},
   "outputs": [],
   "source": []
  }
 ],
 "metadata": {
  "kernelspec": {
   "display_name": "Python 3 (ipykernel)",
   "language": "python",
   "name": "python3"
  },
  "language_info": {
   "codemirror_mode": {
    "name": "ipython",
    "version": 3
   },
   "file_extension": ".py",
   "mimetype": "text/x-python",
   "name": "python",
   "nbconvert_exporter": "python",
   "pygments_lexer": "ipython3",
   "version": "3.10.11"
  }
 },
 "nbformat": 4,
 "nbformat_minor": 5
}
